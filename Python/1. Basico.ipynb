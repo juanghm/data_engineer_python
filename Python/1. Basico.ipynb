{
 "cells": [
  {
   "cell_type": "markdown",
   "id": "a84f8fa3-4822-47af-92b6-0aca937a3b6f",
   "metadata": {},
   "source": [
    "# 1. Basic\n",
    "\n",
    "\n",
    "## help(función)\n",
    "Retorna información sobre una función. Muestra la documentación de la función.\n",
    "\n",
    "## type(data)\n",
    "Para obtener el tipo de data de data.\n",
    "\n",
    "## “””text”””\n",
    "Se usa triple doble comillas para texto de varias lineas.\n",
    "\n",
    "## .lower()\n",
    "Aplica lowercase a la var_string\n",
    "\n",
    "## List[]\n",
    "- Se crean usando [ ]\n",
    "- Están ordenadas.\n",
    "- Se puede modificar, agregar o eliminar elementos.\n",
    "- Se puede obtener un elemento usando su indice [0] obtiene el primer elemento, [-2] obtiene el penúltimo elemento.\n",
    "- `.pop()`: elimina el último elemento y lo retorna.\n",
    "- [ 2 : 4 ]: Obtiene el elemento en la posición 2 hasta el 4to elemento.\n",
    "- [ 3 : ]: Obtiene los elementos desde el 4to en adelante.\n",
    "- [ : 3 ]: Obtiene los 3 primeros elementos.\n",
    "- [ : : 2 ]: Obtiene el primer elemento y luego cada 2 elementos, es decir el 3ro, 5to, etc.\n",
    "- [ 1 : : 3 ]: Obtiene el segundo elemento y luego cada elemento cada 3, es decir el 4to, 7mo, etc.\n",
    "\n",
    "## Dictionaries {}\n",
    "- Se almacenan en estructura { llave_1: valor_1, llave_2: valor_2, … }\n",
    "- Están ordenados.\n",
    "- No se permiten llaves repetidas. En caso tal se reemplaza.\n",
    "- Se obtienen valores usando la llave.\n",
    "- Se pueden obtener solo las llaves: dict.keys()\n",
    "- Se pueden obtener solo los valores: dict.values()\n",
    "- Se puede ver todo el dictionary con print(dictionary)\n",
    "- Se puede obtener las parejas llave-valor con dict.items()\n",
    "- Para agregar items se guarda un value en una nueva llave.\n",
    "\n",
    "Algunos métodos útiles:\n",
    "- `.get(llave)`: Obtiene el valor de la llave, si no existe retorna None.\n",
    "- `.pop(llave)`: Elimina la llave y retorna su valor.\n",
    "- `.update(otro_dict)`: Actualiza el diccionario con los valores de otro diccionario.\n",
    "- `.clear()`: Elimina todos los elementos del diccionario.\n",
    "- `.copy()`: Crea una copia superficial del diccionario.\n",
    "- `del dict[llave]`: Elimina la llave y su valor del diccionario.\n",
    "- `in`: Verifica si una llave está en el diccionario.\n",
    "- `defaultdict`: Es un tipo de diccionario que permite definir un valor por defecto para llaves que no existen. Se importa desde `collections`."
   ]
  },
  {
   "metadata": {
    "ExecuteTime": {
     "end_time": "2025-06-17T00:21:50.276750Z",
     "start_time": "2025-06-17T00:21:50.272402Z"
    }
   },
   "cell_type": "code",
   "source": [
    "# Crear un diccionario:\n",
    "my_dict = {\"name\": \"Alice\", \"age\": 25, \"city\": \"New York\"}\n",
    "\n",
    "# Acceder a un valor:\n",
    "print(my_dict[\"name\"])  # Output: Alice\n",
    "\n",
    "# Agregar o Modificar Items:\n",
    "my_dict[\"age\"] = 26  # Update\n",
    "my_dict[\"country\"] = \"USA\"  # Add\n",
    "\n",
    "# Eliminar un Item:\n",
    "del my_dict[\"city\"]\n",
    "\n",
    "# Iterar sobre un Diccionario:\n",
    "for key, value in my_dict.items():\n",
    "    print(key, value)\n",
    "\n",
    "# Check for a Key:\n",
    "print(\"name\" in my_dict) # Output: True\n",
    "\n",
    "# Obtener Llaves y Valores:\n",
    "keys = my_dict.keys()\n",
    "values = my_dict.values()\n",
    "\n",
    "# Ejemplo de defaultdict:\n",
    "from collections import defaultdict\n",
    "\n",
    "default_dict = defaultdict(int)  # int() crea un valor por defecto de 0\n",
    "default_dict[\"a\"] += 1  # Incrementa el valor de la llave \"a\"\n",
    "print(default_dict)  # Output: defaultdict(<class 'int'>, {'a': 1})"
   ],
   "id": "2e45ef5702512241",
   "outputs": [
    {
     "name": "stdout",
     "output_type": "stream",
     "text": [
      "Alice\n",
      "name Alice\n",
      "age 26\n",
      "country USA\n",
      "True\n",
      "defaultdict(<class 'int'>, {'a': 1})\n"
     ]
    }
   ],
   "execution_count": 3
  },
  {
   "metadata": {},
   "cell_type": "markdown",
   "source": [
    "## Sets {}\n",
    "- Es una lista de valores entre { }\n",
    "- No permite duplicados.\n",
    "- Se puede convertir una lista en un set. set(list). Elimina duplicados.\n",
    "- No tiene indices, no se puede acceder por indice.\n",
    "- Se pueden ordenar usando sorted(set_variable)\n",
    "- Es una estructura de datos que optimiza las operaciones entre listas.\n",
    "\n",
    "Algunos métodos útiles:\n",
    "- `.add(value)`: Agrega un valor al set.\n",
    "- `.remove(value)`: Elimina un valor del set, si no existe lanza un error.\n",
    "- `.update(other_set)`: Agrega los elementos de otro set al set actual.\n",
    "- `.discard(value)`: Elimina un valor del set, si no existe no lanza error.\n",
    "- `.pop()`: Elimina y retorna un valor aleatorio del set.\n",
    "- `.clear()`: Elimina todos los elementos del set.\n",
    "- `.union(other_set)`: Retorna un nuevo set con los elementos de ambos sets."
   ],
   "id": "575ff7b8c9daaea5"
  },
  {
   "cell_type": "code",
   "id": "b3cd884c-c647-4ce7-8cbb-aa955abfb7f5",
   "metadata": {},
   "source": [
    "list_1 = ['name_1', 'name_2', 'name_3']\n",
    "list_2 = ['cat_1', 'cat_2', 'cat_3', 'name_2']\n",
    "\n",
    "set_a = set(list_1)\n",
    "set_b = set(list_2)\n",
    "\n",
    "print(set_a.intersection(set_b)) #{'name_2'}\n",
    "\n",
    "print(set_a.difference(set_b)) #{'name_1', 'name_3'}\n",
    "\n",
    "print(set_b.difference(set_a)) #{'cat_1', 'cat_2', 'cat_3'}\n",
    "\n",
    "print(set_a.symmetric_difference(set_b)) #{'name_1', 'name_3', 'cat_1', 'cat_2', 'cat_3'}\n",
    "\n",
    "print(set_a.union(set_b)) #{'name_1', 'name_2', 'name_3', 'cat_1', 'cat_2', 'cat_3'}"
   ],
   "outputs": [],
   "execution_count": null
  },
  {
   "cell_type": "markdown",
   "id": "8ffda6ae-9b13-401d-9213-e897b203907d",
   "metadata": {},
   "source": [
    "## Tuples()\n",
    "- Es una lista entre ( )\n",
    "- Similar al set pero NO se puede modificar (inmutable). No se le pueden agregar elementos, ni remover, ni modificar.\n",
    "- Están ordenadas.\n",
    "- Se pueden obtener los valores usando los indices como en las listas.\n",
    "- Se puede convertir una lista a una tupla usando tuple(list_variable)\n",
    "\n",
    "## Named Tuples\n",
    "- Es una tupla con nombres para cada elemento.\n",
    "- Se crea usando `collections.namedtuple()`.\n",
    "- Ejemplo: `Point = namedtuple('Point', ['x', 'y'])` crea una tupla con los campos x e y.\n",
    "\n",
    "## range(i, j)\n",
    "* Genera rangos que se pueden usar en ciclos for.\n",
    "* range(1, 11) numeros del 1 al 10."
   ]
  },
  {
   "cell_type": "code",
   "id": "501365e3-acf2-4e66-8061-f03f135a04e9",
   "metadata": {
    "editable": true,
    "slideshow": {
     "slide_type": ""
    },
    "tags": []
   },
   "source": [
    "nums = range(0,11) #Genera un objeto tipo rango con los numeros del 0 al 10.\n",
    "nums = range(11) #Genera un objeto tipo rango con los numeros del 0 al 10.\n",
    "\n",
    "nums_list = [*nums] #Convierte el objeto rango en una lista.\n",
    "nums_list = list(nums) #Convierte el objeto rango en una lista.\n",
    "\n",
    "even_nums = range(2, 11, 2) #Valor inicial, final y paso (cada cuantos numeros)\n",
    "print([*even_nums]) #[2,4,6,8,10]"
   ],
   "outputs": [],
   "execution_count": null
  },
  {
   "metadata": {},
   "cell_type": "markdown",
   "source": [
    "## Contando\n",
    "- `Counter`: Permite contar la cantidad de veces que aparece un elemento en una lista o iterable.\n",
    "- `most_common(n)`: Retorna los n elementos más comunes en un iterable."
   ],
   "id": "48e909cfe368101e"
  },
  {
   "metadata": {
    "ExecuteTime": {
     "end_time": "2025-06-17T00:14:42.553643Z",
     "start_time": "2025-06-17T00:14:42.549915Z"
    }
   },
   "cell_type": "code",
   "source": [
    "from collections import Counter\n",
    "\n",
    "custom_types = ['cat_1', 'cat_2', 'cat_3', 'cat_1', 'cat_2', 'cat_1']\n",
    "category_count = Counter(custom_types)\n",
    "print(category_count) # Counter({'cat_1': 3, 'cat_2': 2, 'cat_3': 1})\n",
    "\n",
    "# most_common(n) retorna los n elementos más comunes\n",
    "print(category_count.most_common(2)) # [('cat_1', 3), ('cat_2', 2)]"
   ],
   "id": "e97632ffa47a89a4",
   "outputs": [
    {
     "name": "stdout",
     "output_type": "stream",
     "text": [
      "Counter({'cat_1': 3, 'cat_2': 2, 'cat_3': 1})\n",
      "[('cat_1', 3), ('cat_2', 2)]\n"
     ]
    }
   ],
   "execution_count": 1
  },
  {
   "cell_type": "markdown",
   "id": "e90d7ae7-58f4-4946-a3ab-8f714bd50f92",
   "metadata": {},
   "source": [
    "## os\n",
    "Funciones con el sistema operativo:\n",
    "- os.getcwd(): Obtiene el directorio actual donde se ejecuta el script.\n",
    "- os.chdir(‘/home/other/dir’): Para cambiar de directorio.\n",
    "- os.environ: Obtiene las variables de entorno.\n",
    "\n",
    "## docstring\n",
    "funct.__doc__ : Obtiene la documentación de la función.\n",
    "\n",
    "## zip - Combinar Objetos\n",
    "Es una función que combina o empareja iterables (listas, duplas, etc.). Empareja los elementos iterases en la misma posición y crea duplas, si los iterases no tienen la misma longitud zip se detiene al terminar el iterable mas corto."
   ]
  },
  {
   "cell_type": "code",
   "id": "2bc35ed9-4d13-44ac-9bfa-09b67d368b80",
   "metadata": {},
   "source": [
    "list1 = [1, 2, 3]\n",
    "list2 = ['a', 'b', 'c']\n",
    "\n",
    "zipped = zip(list1, list2)\n",
    "\n",
    "print(list(zipped)) # Salida: [(1, 'a'), (2, 'b'), (3, 'c')]\n",
    "\n",
    "# Crear listas de claves y valores\n",
    "keys = ['nombre', 'edad', 'ciudad']\n",
    "values = ['Ana', 28, 'Madrid']\n",
    "\n",
    "# Usar zip() para emparejar claves y valores\n",
    "zipped = zip(keys, values)\n",
    "\n",
    "print(dict(zipped))# Salida: {'nombre': 'Ana', 'edad': 28, 'ciudad': 'Madrid'}"
   ],
   "outputs": [],
   "execution_count": null
  },
  {
   "cell_type": "markdown",
   "id": "375947f0-0e7a-4836-8ef8-41e9450f60c0",
   "metadata": {},
   "source": [
    "## Modulo itertools"
   ]
  },
  {
   "cell_type": "code",
   "id": "898310ea-7e4c-4045-bc7b-b104c9d87f1d",
   "metadata": {},
   "source": [
    "from itertools import combinations\n",
    "\n",
    "names = ['name_1', 'name_2', 'name_3', 'name_4']\n",
    "combos = combinations(names, 2) #El numero indica la cantidad de items en cada grupo.\n",
    "\n",
    "print([*combos]) #[('name_1', 'name_2'), ('name_2', 'name_1'), ('name_3', 'name_2'), ...]"
   ],
   "outputs": [],
   "execution_count": null
  },
  {
   "cell_type": "markdown",
   "id": "0a7f9ae0-3f59-4c08-a196-c07f3e002e08",
   "metadata": {},
   "source": [
    "## Lambda Functions\n",
    "Es una función que se aplica sobre una variable:"
   ]
  },
  {
   "cell_type": "code",
   "id": "4597e034-086a-45dc-b364-551646bc2a80",
   "metadata": {
    "ExecuteTime": {
     "end_time": "2025-06-17T00:20:11.536361Z",
     "start_time": "2025-06-17T00:20:11.530357Z"
    }
   },
   "source": [
    "list_variable = [1, 2, 3, 4, 5]\n",
    "\n",
    "# Forma 1\n",
    "(lambda x: sum(x)/len(x))(list_variable)\n",
    "\n",
    "# Forma 2\n",
    "average = lambda x: sum(x)/len(x)\n",
    "average(list_variable)\n"
   ],
   "outputs": [
    {
     "data": {
      "text/plain": [
       "3.0"
      ]
     },
     "execution_count": 2,
     "metadata": {},
     "output_type": "execute_result"
    }
   ],
   "execution_count": 2
  },
  {
   "cell_type": "markdown",
   "id": "7b203b2c-9c1d-4eef-9dce-9427a83a7152",
   "metadata": {},
   "source": [
    "## Packages\n",
    "\n",
    "Para crear un paquete se debe crear un directorio con un archivo llamado __init__.py. Este es el requisito minimo. Se pueden agregar archivos dentro de este directorio y se usan con la notación . Para cada archivo, por ejemplo el archivo utils.py puede ser reverenciado usando “import my_package.utils”.\n",
    "\n",
    "- Se puede tener un subpaquete creando un sub-folder y dentro de este un archivo __init__.py\n",
    "\n",
    "## Links and additional tools\n",
    "\n",
    "- **Sphinx**: Transforma la documentacion de un proyecto de python en diferentes formatos.\n",
    "\n",
    "- **Travis CI**: Herramienta de integración continua.\n",
    "\n",
    "- **Codecov**: Herramienta para gestionar la calidad de codigo se integra con CI y el repositorio.\n",
    "\n",
    "- **Code Climate**: Herramienta para analizar el codigo para mejorar calidad."
   ]
  }
 ],
 "metadata": {
  "kernelspec": {
   "display_name": "Python 3 (ipykernel)",
   "language": "python",
   "name": "python3"
  },
  "language_info": {
   "codemirror_mode": {
    "name": "ipython",
    "version": 3
   },
   "file_extension": ".py",
   "mimetype": "text/x-python",
   "name": "python",
   "nbconvert_exporter": "python",
   "pygments_lexer": "ipython3",
   "version": "3.13.3"
  }
 },
 "nbformat": 4,
 "nbformat_minor": 5
}
