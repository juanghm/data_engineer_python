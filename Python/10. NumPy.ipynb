{
 "cells": [
  {
   "metadata": {},
   "cell_type": "markdown",
   "source": [
    "# NumPy\n",
    "Libreria que se utiliza para el manejo de arreglos multidimensionales y matrices, además de funciones matemáticas de alto nivel.\n",
    "\n",
    "- Se utiliza principalmente para operaciones con listas y arreglos.\n",
    "- Los arreglos numpy no pueden contener distintos tipos de datos, es decir, todos los elementos deben ser del mismo tipo.\n",
    "- Las operaciones con arreglos numpy son mucho más rápidas que las operaciones con listas de python.\n",
    "- Algunas operaciones entre arreglos como +, -, *, / son operaciones elemento a elemento. Tambien aplica para operadores de comparacion como <, >, <=, >=, ==, !=."
   ],
   "id": "f5a360e2742cdf64"
  },
  {
   "metadata": {},
   "cell_type": "code",
   "outputs": [],
   "execution_count": null,
   "source": [
    "import numpy as np\n",
    "\n",
    "# Crear un arreglo unidimensional\n",
    "arr_1d = np.array([1, 2, 3, 4, 5])\n",
    "\n",
    "# Crear un arreglo bidimensional\n",
    "arr_2d = np.array([[1, 2, 3], [4, 5, 6]])"
   ],
   "id": "eaad81ad94c0957a"
  },
  {
   "metadata": {},
   "cell_type": "markdown",
   "source": [
    "## Funciones de NumPy\n",
    "- np.array(): Crea un arreglo numpy a partir de una lista o tupla.\n",
    "- np.zeros(): Crea un arreglo numpy lleno de ceros.\n",
    "- np.ones(): Crea un arreglo numpy lleno de unos.\n",
    "- np.mean(): Calcula la media de un arreglo numpy.\n",
    "- np.median(): Calcula la mediana de un arreglo numpy.\n",
    "- np.std(): Calcula la desviación estándar de un arreglo numpy.\n",
    "- np.random(): Genera números aleatorios.\n",
    "- np.random.rand(): Genera números aleatorios entre 0 y 1.\n",
    "\n",
    "## Funciones Logicas\n",
    "- np.all(): Verifica si todos los elementos de un arreglo son verdaderos.\n",
    "- np.any(): Verifica si al menos un elemento de un arreglo es verdadero.\n",
    "- np.logical_and(): Realiza una operación AND lógica entre dos arreglos.\n",
    "- np.logical_or(): Realiza una operación OR lógica entre dos arreglos.\n",
    "- np.logical_not(): Realiza una operación NOT lógica entre un arreglo."
   ],
   "id": "92ccecdf92faca31"
  },
  {
   "metadata": {},
   "cell_type": "code",
   "outputs": [],
   "execution_count": null,
   "source": "",
   "id": "50080604025dae41"
  }
 ],
 "metadata": {
  "kernelspec": {
   "display_name": "Python 3",
   "language": "python",
   "name": "python3"
  },
  "language_info": {
   "codemirror_mode": {
    "name": "ipython",
    "version": 2
   },
   "file_extension": ".py",
   "mimetype": "text/x-python",
   "name": "python",
   "nbconvert_exporter": "python",
   "pygments_lexer": "ipython2",
   "version": "2.7.6"
  }
 },
 "nbformat": 4,
 "nbformat_minor": 5
}
