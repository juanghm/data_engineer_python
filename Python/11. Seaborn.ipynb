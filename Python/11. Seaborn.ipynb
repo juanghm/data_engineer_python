{
 "cells": [
  {
   "metadata": {},
   "cell_type": "markdown",
   "source": [
    "# Seaborn\n",
    "Es una biblioteca de visualización de datos en Python basada en Matplotlib, diseñada para hacer gráficos estadísticos atractivos y fáciles de interpretar. Se integra muy bien con pandas y permite crear gráficos complejos con pocas líneas de código.\n",
    "\n",
    "**Características principales:**\n",
    "- Facilita la creación de gráficos estadísticos como: gráficos de dispersión, de barras, de cajas (boxplot), violin plots, mapas de calor, etc.\n",
    "- Permite personalizar fácilmente los estilos y paletas de colores.\n",
    "- Trabaja directamente con DataFrames de pandas.\n",
    "\n",
    "**Ventajas:**\n",
    "- Código más simple y legible que Matplotlib puro.\n",
    "- Gráficos con mejor estética por defecto.\n",
    "- Funciones para análisis exploratorio de datos.\n",
    "\n",
    "**Tipos de graficos:**\n",
    "- **Scatter plots** (`scatterplot`)\n",
    "- **Line plots** (`lineplot`)\n",
    "- **Bar plots** (`barplot`, `countplot`)\n",
    "- **Box plots** (`boxplot`)\n",
    "- **Violin plots** (`violinplot`)\n",
    "- **Strip plots** (`stripplot`)\n",
    "- **Swarm plots** (`swarmplot`)\n",
    "- **Histograms** (`histplot`)\n",
    "- **KDE plots** (Kernel Density Estimate, `kdeplot`)\n",
    "- **Heatmaps** (`heatmap`)\n",
    "- **Pair plots** (`pairplot`)\n",
    "- **Joint plots** (`jointplot`)\n",
    "- **Cat plots** (categorical plots, `catplot`)"
   ],
   "id": "8da56319215d237b"
  },
  {
   "metadata": {
    "ExecuteTime": {
     "end_time": "2025-05-15T01:00:05.610773Z",
     "start_time": "2025-05-15T01:00:05.483241Z"
    }
   },
   "cell_type": "code",
   "source": [
    "import seaborn as sns\n",
    "import pandas as pd\n",
    "\n",
    "# Crear un DataFrame de ejemplo\n",
    "df = pd.DataFrame({\n",
    "    'x': [1, 2, 3, 4, 5],\n",
    "    'y': [5, 4, 3, 2, 1]\n",
    "})\n",
    "\n",
    "# Crear un gráfico de dispersión\n",
    "sns.scatterplot(data=df, x='x', y='y')"
   ],
   "id": "fd25ed8b215005d5",
   "outputs": [
    {
     "data": {
      "text/plain": [
       "<Axes: xlabel='x', ylabel='y'>"
      ]
     },
     "execution_count": 1,
     "metadata": {},
     "output_type": "execute_result"
    },
    {
     "data": {
      "text/plain": [
       "<Figure size 640x480 with 1 Axes>"
      ],
      "image/png": "[encoded data removed]"
     },
     "metadata": {},
     "output_type": "display_data"
    }
   ],
   "execution_count": 1
  },
  {
   "metadata": {},
   "cell_type": "code",
   "outputs": [],
   "execution_count": null,
   "source": "",
   "id": "5111862b46154028"
  }
 ],
 "metadata": {
  "kernelspec": {
   "display_name": "Python 3",
   "language": "python",
   "name": "python3"
  },
  "language_info": {
   "codemirror_mode": {
    "name": "ipython",
    "version": 2
   },
   "file_extension": ".py",
   "mimetype": "text/x-python",
   "name": "python",
   "nbconvert_exporter": "python",
   "pygments_lexer": "ipython2",
   "version": "2.7.6"
  }
 },
 "nbformat": 4,
 "nbformat_minor": 5
}
