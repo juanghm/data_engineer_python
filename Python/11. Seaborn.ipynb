{
 "cells": [
  {
   "metadata": {},
   "cell_type": "markdown",
   "source": [
    "# Seaborn\n",
    "Es una biblioteca de visualización de datos en Python basada en Matplotlib, diseñada para hacer gráficos estadísticos atractivos y fáciles de interpretar. Se integra muy bien con pandas y permite crear gráficos complejos con pocas líneas de código.\n",
    "\n",
    "**Características principales:**\n",
    "- Facilita la creación de gráficos estadísticos como: gráficos de dispersión, de barras, de cajas (boxplot), violin plots, mapas de calor, etc.\n",
    "- Permite personalizar fácilmente los estilos y paletas de colores.\n",
    "- Trabaja directamente con DataFrames de pandas.\n",
    "\n",
    "**Ventajas:**\n",
    "- Código más simple y legible que Matplotlib puro.\n",
    "- Gráficos con mejor estética por defecto.\n",
    "- Funciones para análisis exploratorio de datos.\n",
    "\n",
    "**Tipos de graficos:**\n",
    "- **Scatter plots** (`scatterplot`)\n",
    "- **Line plots** (`lineplot`)\n",
    "- **Bar plots** (`barplot`, `countplot`)\n",
    "- **Box plots** (`boxplot`)\n",
    "- **Violin plots** (`violinplot`)\n",
    "- **Strip plots** (`stripplot`)\n",
    "- **Swarm plots** (`swarmplot`)\n",
    "- **Histograms** (`histplot`)\n",
    "- **KDE plots** (Kernel Density Estimate, `kdeplot`)\n",
    "- **Heatmaps** (`heatmap`)\n",
    "- **Pair plots** (`pairplot`)\n",
    "- **Joint plots** (`jointplot`)\n",
    "- **Cat plots** (categorical plots, `catplot`)"
   ],
   "id": "8da56319215d237b"
  },
  {
   "metadata": {},
   "cell_type": "code",
   "source": [
    "import seaborn as sns\n",
    "import pandas as pd\n",
    "import matplotlib.pyplot as plt\n",
    "\n",
    "# Crear un DataFrame de ejemplo\n",
    "df = pd.DataFrame({\n",
    "    'x': [1, 2, 3, 4, 5],\n",
    "    'y': [5, 4, 3, 2, 1]\n",
    "})\n",
    "\n",
    "# Crear un gráfico de dispersión\n",
    "sns.scatterplot(data=df, x='x', y='y')"
   ],
   "id": "fd25ed8b215005d5",
   "outputs": [],
   "execution_count": null
  },
  {
   "metadata": {},
   "cell_type": "markdown",
   "source": [
    "El argumento hue en Seaborn se utiliza para diferenciar los datos en un gráfico según una variable categórica, asignando diferentes colores a cada categoría. Esto permite visualizar cómo se distribuyen los datos según esa variable.\n",
    "\n",
    "Ejemplo: Si tienes una columna \"sexo\" con valores \"hombre\" y \"mujer\", al usar hue='sexo', Seaborn coloreará los puntos o barras según el sexo."
   ],
   "id": "6dc4c9513caf05c0"
  },
  {
   "metadata": {},
   "cell_type": "code",
   "source": [
    "import seaborn as sns\n",
    "import matplotlib.pyplot as plt\n",
    "\n",
    "# Ejemplo de DataFrame\n",
    "import pandas as pd\n",
    "df = pd.DataFrame({\n",
    "    'altura': [160, 170, 175, 165, 180, 155],\n",
    "    'peso': [60, 70, 80, 55, 90, 50],\n",
    "    'sexo': ['mujer', 'hombre', 'hombre', 'mujer', 'hombre', 'mujer']\n",
    "})\n",
    "\n",
    "# Gráfico de dispersión con hue\n",
    "sns.scatterplot(\n",
    "    data=df,\n",
    "    x='altura',\n",
    "    y='peso',\n",
    "    hue='sexo',\n",
    "    hue_order=['hombre', 'mujer'],\n",
    "    palette={'hombre': 'blue', 'mujer': 'pink'})\n",
    "plt.show()"
   ],
   "id": "a81bdb8e854a0bfa",
   "outputs": [],
   "execution_count": null
  },
  {
   "metadata": {},
   "cell_type": "markdown",
   "source": [
    "## .relplot()\n",
    "Es una función de alto nivel para crear gráficos relacionales, como gráficos de dispersión (`scatter`) y de líneas (`line`). Es muy flexible y permite crear gráficos complejos fácilmente.\n",
    "\n",
    "**¿Cómo funciona?**\n",
    "- Por defecto, crea un gráfico de dispersión (`kind='scatter'`), pero puedes cambiarlo a línea con `kind='line'`.\n",
    "- Permite usar argumentos como `hue`, `col`, `row`, `size`, y `style` para diferenciar y organizar los datos por categorías, creando incluso múltiples subgráficos (facetas).\n",
    "- `data`: DataFrame con los datos.\n",
    "- `x`, `y`: Variables para los ejes.\n",
    "- `hue`: Variable para agrupar por color.\n",
    "- `size`: Variable para el tamaño de los puntos.\n",
    "- `style`: Variable para el estilo de los marcadores.\n",
    "- `col`, `row`: Variables para crear subgráficos (facetas).\n",
    "- `kind`: Tipo de gráfico (`'scatter'` o `'line'`).\n",
    "- `palette`: Paleta de colores.\n",
    "- `height`: Altura de cada faceta.\n",
    "- `aspect`: Relación de aspecto de cada faceta.\n",
    "- `markers`: Marcadores personalizados.\n",
    "- `sizes`: Rango o diccionario para los tamaños de los puntos.\n",
    "- `col_wrap`: Número de columnas antes de hacer un salto de línea en las facetas.\n",
    "- `facet_kws`: Diccionario de opciones para el `FacetGrid`.\n",
    "\n",
    "**Ventajas:**\n",
    "- Permite crear fácilmente gráficos con múltiples variables categóricas.\n",
    "- Facilita la comparación entre grupos y la visualización de relaciones.\n",
    "\n",
    "**Resumen:**\n",
    "`.relplot()` es ideal para explorar relaciones entre variables y comparar grupos, con opciones para personalizar colores, estilos y organizar subgráficos."
   ],
   "id": "211597b0a46972c3"
  },
  {
   "metadata": {},
   "cell_type": "code",
   "source": [
    "import seaborn as sns\n",
    "import matplotlib.pyplot as plt\n",
    "\n",
    "# DataFrame de ejemplo\n",
    "import pandas as pd\n",
    "df = pd.DataFrame({\n",
    "    'x': [1, 2, 3, 4, 5, 1, 2, 3, 4, 5],\n",
    "    'y': [5, 4, 3, 2, 1, 2, 3, 4, 5, 6],\n",
    "    'grupo': ['A']*5 + ['B']*5\n",
    "})\n",
    "\n",
    "# Gráfico de dispersión con hue\n",
    "sns.relplot(data=df, x='x', y='y', hue='grupo', kind='scatter', row='grupo', style='grupo')\n",
    "plt.show()"
   ],
   "id": "85a351658f9dcae0",
   "outputs": [],
   "execution_count": null
  },
  {
   "metadata": {},
   "cell_type": "markdown",
   "source": "",
   "id": "cb9e4555b44cc009"
  }
 ],
 "metadata": {
  "kernelspec": {
   "display_name": "Python 3",
   "language": "python",
   "name": "python3"
  },
  "language_info": {
   "codemirror_mode": {
    "name": "ipython",
    "version": 2
   },
   "file_extension": ".py",
   "mimetype": "text/x-python",
   "name": "python",
   "nbconvert_exporter": "python",
   "pygments_lexer": "ipython2",
   "version": "2.7.6"
  }
 },
 "nbformat": 4,
 "nbformat_minor": 5
}
