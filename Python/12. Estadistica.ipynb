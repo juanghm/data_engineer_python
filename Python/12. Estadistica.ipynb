{
 "cells": [
  {
   "metadata": {},
   "cell_type": "markdown",
   "source": [
    "# Estadistica\n",
    "\n",
    "## Medidas de Dispersión\n",
    "Para calcular la varianza se puede usar la funcion np.var() de numpy, que calcula la varianza de un array o lista de valores. La desviación estándar se puede calcular con np.std(). Ejemplo:"
   ],
   "id": "92eb18037db04a09"
  },
  {
   "metadata": {},
   "cell_type": "code",
   "source": [
    "import numpy as np\n",
    "\n",
    "# Datos de ejemplo\n",
    "data = [10, 12, 23, 23, 16, 23, 21, 16]\n",
    "\n",
    "# Calcular varianza\n",
    "varianza = np.var(data, ddof=1) # ddof=1 para varianza muestral no toda la poblacion.\n",
    "print(varianza)\n",
    "\n",
    "# Calcular desviación estándar\n",
    "desviacion_estandar = np.std(data)\n",
    "print(desviacion_estandar)"
   ],
   "id": "4139819bdf99f47a",
   "outputs": [],
   "execution_count": null
  },
  {
   "metadata": {},
   "cell_type": "markdown",
   "source": [
    "## Quantiles\n",
    "Para calcular los quantiles se puede usar la función np.quantile() de numpy. Esta función toma un array de datos y un valor entre 0 y 1 que representa el quantil deseado. Por ejemplo, para calcular el primer cuartil (Q1), el segundo cuartil (Q2 o mediana) y el tercer cuartil (Q3), se puede hacer lo siguiente:"
   ],
   "id": "b231649a7e538b37"
  },
  {
   "metadata": {},
   "cell_type": "code",
   "source": [
    "import numpy as np\n",
    "\n",
    "# Datos de ejemplo\n",
    "data = [10, 12, 23, 23, 16, 23, 21, 16]\n",
    "\n",
    "# Calcular quantiles\n",
    "q1 = np.quantile(data, 0.25)\n",
    "q2 = np.quantile(data, 0.5)  # Mediana\n",
    "q3 = np.quantile(data, 0.75)\n",
    "print(f\"Q1: {q1}, Q2: {q2}, Q3: {q3}\")\n",
    "\n",
    "# Tambien se puede usar la funcion linspace para obtener los quantiles de manera mas general.\n",
    "quantiles = np.linspace(0, 1, 5)  # Cuatro quantiles (0%, 25%, 50%, 75%, 100%)\n",
    "quantiles_values = np.quantile(data, quantiles)\n",
    "print(f\"Quantiles: {quantiles_values}\")"
   ],
   "id": "8abea2f8870975f5",
   "outputs": [],
   "execution_count": null
  },
  {
   "metadata": {},
   "cell_type": "markdown",
   "source": [
    "## Outliers\n",
    "Para detectar outliers, se puede usar el método del rango intercuartil (IQR). Los outliers son aquellos valores que están por debajo de Q1 - 1.5 * IQR o por encima de Q3 + 1.5 * IQR. Aquí hay un ejemplo de cómo hacerlo:"
   ],
   "id": "76c30a3a5a150390"
  },
  {
   "metadata": {
    "ExecuteTime": {
     "end_time": "2025-05-29T23:52:41.141055Z",
     "start_time": "2025-05-29T23:52:41.136567Z"
    }
   },
   "cell_type": "code",
   "source": [
    "from scipy.stats import iqr\n",
    "import numpy as np\n",
    "\n",
    "# Datos de ejemplo\n",
    "data = [10.0, 12.0, 23.0, 23.0, 16.0, 23.0, 21.0, 16.0, 100.0]  # Incluyendo un outlier (100)\n",
    "data_np = np.array(data)\n",
    "\n",
    "# Calcular Q1, Q3 y IQR\n",
    "iqr_value = iqr(data_np)\n",
    "\n",
    "lower_threshold = np.quantile(data_np, 0.25) - 1.5 * iqr_value\n",
    "upper_threshold = np.quantile(data_np, 0.75) + 1.5 * iqr_value\n",
    "\n",
    "print(data_np[(data_np < lower_threshold) | (data_np > upper_threshold)])  # Imprime los outliers"
   ],
   "id": "6e633898d2e4a2d1",
   "outputs": [
    {
     "name": "stdout",
     "output_type": "stream",
     "text": [
      "[100.]\n"
     ]
    }
   ],
   "execution_count": 2
  },
  {
   "metadata": {},
   "cell_type": "markdown",
   "source": "## Distribuciones Discretas\n",
   "id": "e8f5dfc920dfe9a2"
  }
 ],
 "metadata": {
  "kernelspec": {
   "display_name": "Python 3",
   "language": "python",
   "name": "python3"
  },
  "language_info": {
   "codemirror_mode": {
    "name": "ipython",
    "version": 2
   },
   "file_extension": ".py",
   "mimetype": "text/x-python",
   "name": "python",
   "nbconvert_exporter": "python",
   "pygments_lexer": "ipython2",
   "version": "2.7.6"
  }
 },
 "nbformat": 4,
 "nbformat_minor": 5
}
