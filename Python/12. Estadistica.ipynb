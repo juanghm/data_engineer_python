{
 "cells": [
  {
   "metadata": {},
   "cell_type": "markdown",
   "source": [
    "# Estadistica\n",
    "\n",
    "## Medidas de Dispersión\n",
    "Para calcular la varianza se puede usar la funcion np.var() de numpy, que calcula la varianza de un array o lista de valores. La desviación estándar se puede calcular con np.std(). Ejemplo:"
   ],
   "id": "92eb18037db04a09"
  },
  {
   "metadata": {},
   "cell_type": "code",
   "source": [
    "import numpy as np\n",
    "\n",
    "# Datos de ejemplo\n",
    "data = [10, 12, 23, 23, 16, 23, 21, 16]\n",
    "\n",
    "# Calcular varianza\n",
    "varianza = np.var(data, ddof=1) # ddof=1 para varianza muestral no toda la poblacion.\n",
    "print(varianza)\n",
    "\n",
    "# Calcular desviación estándar\n",
    "desviacion_estandar = np.std(data)\n",
    "print(desviacion_estandar)"
   ],
   "id": "4139819bdf99f47a",
   "outputs": [],
   "execution_count": null
  },
  {
   "metadata": {},
   "cell_type": "markdown",
   "source": [
    "## Quantiles\n",
    "Para calcular los quantiles se puede usar la función np.quantile() de numpy. Esta función toma un array de datos y un valor entre 0 y 1 que representa el quantil deseado. Por ejemplo, para calcular el primer cuartil (Q1), el segundo cuartil (Q2 o mediana) y el tercer cuartil (Q3), se puede hacer lo siguiente:"
   ],
   "id": "b231649a7e538b37"
  },
  {
   "metadata": {},
   "cell_type": "code",
   "source": [
    "import numpy as np\n",
    "\n",
    "# Datos de ejemplo\n",
    "data = [10, 12, 23, 23, 16, 23, 21, 16]\n",
    "\n",
    "# Calcular quantiles\n",
    "q1 = np.quantile(data, 0.25)\n",
    "q2 = np.quantile(data, 0.5)  # Mediana\n",
    "q3 = np.quantile(data, 0.75)\n",
    "print(f\"Q1: {q1}, Q2: {q2}, Q3: {q3}\")\n",
    "\n",
    "# Tambien se puede usar la funcion linspace para obtener los quantiles de manera mas general.\n",
    "quantiles = np.linspace(0, 1, 5)  # Cuatro quantiles (0%, 25%, 50%, 75%, 100%)\n",
    "quantiles_values = np.quantile(data, quantiles)\n",
    "print(f\"Quantiles: {quantiles_values}\")"
   ],
   "id": "8abea2f8870975f5",
   "outputs": [],
   "execution_count": null
  },
  {
   "metadata": {},
   "cell_type": "markdown",
   "source": [
    "## Outliers\n",
    "Para detectar outliers, se puede usar el método del rango intercuartil (IQR). Los outliers son aquellos valores que están por debajo de Q1 - 1.5 * IQR o por encima de Q3 + 1.5 * IQR. Aquí hay un ejemplo de cómo hacerlo:"
   ],
   "id": "76c30a3a5a150390"
  },
  {
   "metadata": {},
   "cell_type": "code",
   "source": [
    "from scipy.stats import iqr\n",
    "import numpy as np\n",
    "\n",
    "# Datos de ejemplo\n",
    "data = [10.0, 12.0, 23.0, 23.0, 16.0, 23.0, 21.0, 16.0, 100.0]  # Incluyendo un outlier (100)\n",
    "data_np = np.array(data)\n",
    "\n",
    "# Calcular Q1, Q3 y IQR\n",
    "iqr_value = iqr(data_np)\n",
    "\n",
    "lower_threshold = np.quantile(data_np, 0.25) - 1.5 * iqr_value\n",
    "upper_threshold = np.quantile(data_np, 0.75) + 1.5 * iqr_value\n",
    "\n",
    "print(data_np[(data_np < lower_threshold) | (data_np > upper_threshold)])  # Imprime los outliers"
   ],
   "id": "6e633898d2e4a2d1",
   "outputs": [],
   "execution_count": null
  },
  {
   "metadata": {},
   "cell_type": "markdown",
   "source": [
    "## Distribución Binomial\n",
    "Se utiliza cuando se tienen dos resultados posibles (éxito o fracaso) y se quiere calcular la probabilidad de obtener un número específico de éxitos en un número fijo de ensayos. La función `binom.pmf()` de `scipy.stats` se usa para calcular la probabilidad de obtener exactamente k éxitos en n ensayos."
   ],
   "id": "e8f5dfc920dfe9a2"
  },
  {
   "metadata": {},
   "cell_type": "code",
   "source": [
    "from scipy.stats import binom\n",
    "\n",
    "# Lanzar 1 moneda con una probabilidad de éxito de 0.5, 10 veces.\n",
    "serie1 = binom.rvs(1, 0.5, size=10)\n",
    "\n",
    "# Lanzar 3 monedas con una probabilidad de éxito de 0.5, 1 vece.\n",
    "serie2 = binom.rvs(3, 0.5, size=2)\n",
    "\n",
    "print(serie1)\n",
    "print(serie2)\n",
    "\n",
    "# Calcular la probabilidad de obtener exactamente 7 exitos en 10 ensayos con una probabilidad de éxito de 0.5\n",
    "prob_exacta = binom.pmf(7, 10, 0.5)\n",
    "print(prob_exacta)\n",
    "\n",
    "# Calcular la probabilidad de obtener 7 o menos éxitos en 10 ensayos con una probabilidad de éxito de 0.5\n",
    "prob_7_o_menos = binom.cdf(7, 10, 0.5)\n",
    "print(prob_7_o_menos)\n",
    "\n",
    "# Calcular la probabilidad de obtener más de 7 éxitos en 10 ensayos con una probabilidad de éxito de 0.5\n",
    "prob_mas_de_7 = 1 - binom.cdf(7, 10, 0.5)\n",
    "print(prob_mas_de_7)"
   ],
   "id": "fe8c883e8ca07963",
   "outputs": [],
   "execution_count": null
  },
  {
   "metadata": {},
   "cell_type": "markdown",
   "source": [
    "## Distribución Normal\n",
    "La distribución normal es una de las distribuciones más importantes en estadística. Se caracteriza por su forma de campana y se define por dos parámetros: la media (mu) y la desviación estándar (sigma). La función `norm.pdf()` de `scipy.stats` se usa para calcular la densidad de probabilidad de la distribución normal.\n",
    "\n",
    "Cuando el promedio o media es 0 y la desviación estándar es 1, se conoce como distribución normal estándar. La función `norm.cdf()` se usa para calcular la función de distribución acumulativa (CDF) de la distribución normal."
   ],
   "id": "2cc02fad43fd794d"
  },
  {
   "metadata": {},
   "cell_type": "code",
   "source": [
    "from scipy.stats import norm\n",
    "\n",
    "# Generar 10 valores de una distribución normal con media 161 y desviación estándar 7\n",
    "norm.rvs(161, 7, size=10)\n",
    "\n",
    "# Probabilidad de que una persona mida menos de 154 cm, dado que la media es 161 cm y la desviación estándar es 7 cm.\n",
    "prob1 = norm.cdf(154, 161, 7)\n",
    "print(prob1)\n",
    "\n",
    "# Probabilidad de que una persona mida más de 154 cm, dado que la media es 161 cm y la desviación estándar es 7 cm.\n",
    "prob2 = 1 - norm.cdf(154, 161, 7)\n",
    "print(prob2)\n",
    "\n",
    "# Probabilidad de que una persona mida entre 154 cm y 170 cm, dado que la media es 161 cm y la desviación estándar es 7 cm.\n",
    "prob3 = norm.cdf(157, 161, 7) - norm.cdf(154, 161, 7)\n",
    "print(prob3)\n",
    "\n",
    "# Que valor de altura corresponde al percentil 90 (es inferior a), dado que la media es 161 cm y la desviación estándar es 7 cm.\n",
    "value1 = norm.ppf(0.9, 161, 7)\n",
    "print(value1)"
   ],
   "id": "1e04ce3304c7a68c",
   "outputs": [],
   "execution_count": null
  },
  {
   "metadata": {},
   "cell_type": "markdown",
   "source": [
    "## Teorema del Límite Central\n",
    "El Teorema del Límite Central establece que, dado un número suficientemente grande de muestras independientes de una población con una media y una desviación estándar finitas, la distribución de la media muestral se aproximará a una distribución normal, independientemente de la forma de la distribución original.\n",
    "\n",
    "## Distribución Poisson\n",
    "La distribución de Poisson se utiliza para modelar el número de eventos que ocurren en un intervalo de tiempo fijo o en un área fija, dado que estos eventos ocurren con una tasa promedio constante y son independientes entre sí. La función `poisson.pmf()` de `scipy.stats` se usa para calcular la probabilidad de que ocurra un número específico de eventos en un intervalo dado."
   ],
   "id": "605991789ac9867a"
  },
  {
   "metadata": {},
   "cell_type": "code",
   "source": [
    "from scipy.stats import poisson\n",
    "\n",
    "# Generar 10 valores de una distribución de Poisson con un promedio de 8 eventos.\n",
    "poisson.rvs(8, size=10)\n",
    "\n",
    "# Si el promedio de eventos es 8, calcular la probabilidad de que ocurran exactamente 5 eventos.\n",
    "prob1 = poisson.pmf(5, 8)\n",
    "print(prob1)\n",
    "\n",
    "# Si el promedio de eventos es 8, calcular la probabilidad de que ocurran 5 o menos eventos.\n",
    "prob2 = poisson.cdf(5, 8)\n",
    "print(prob2)\n",
    "\n",
    "# Si el promedio de eventos es 8, calcular la probabilidad de que ocurran más de 5 eventos.\n",
    "prob3 = 1 - poisson.cdf(5, 8)\n",
    "print(prob3)"
   ],
   "id": "1e28bdbd9ad06fd2",
   "outputs": [],
   "execution_count": null
  },
  {
   "metadata": {},
   "cell_type": "markdown",
   "source": [
    "## Distribución Exponencial\n",
    "La distribución exponencial se utiliza para modelar el tiempo entre eventos en un proceso de Poisson. Es útil para describir el tiempo que transcurre entre eventos que ocurren de manera continua e independiente a una tasa constante. La función `expon.pdf()` de `scipy.stats` se usa para calcular la densidad de probabilidad de la distribución exponencial."
   ],
   "id": "ddb2fab9cf6fec61"
  },
  {
   "metadata": {},
   "cell_type": "code",
   "source": [
    "from scipy.stats import expon\n",
    "\n",
    "# Calcular la probabilidad de que el tiempo entre eventos sea menor a 1 hora, dado que la tasa de eventos es 2 por hora.\n",
    "prob1 = expon.cdf(1, scale=2)\n",
    "print(prob1)\n",
    "\n",
    "# Calcular la probabilidad de que el tiempo entre eventos sea mayor a 1 hora, dado que la tasa de eventos es 2 por hora.\n",
    "prob2 = 1 - expon.cdf(1, scale=2)\n",
    "print(prob2)"
   ],
   "id": "e6cf4489df0276c7",
   "outputs": [],
   "execution_count": null
  },
  {
   "metadata": {},
   "cell_type": "markdown",
   "source": [
    "## Distribución T de Student\n",
    "La distribución t de Student se utiliza cuando se trabaja con muestras pequeñas y la desviación estándar de la población es desconocida. Es similar a la distribución normal, pero tiene colas más gruesas, lo que refleja la mayor incertidumbre en las estimaciones de la media y la desviación estándar. La función `t.pdf()` de `scipy.stats` se usa para calcular la densidad de probabilidad de la distribución t.\n",
    "\n",
    "## Correlación\n",
    "La correlación es una medida estadística que indica la relación entre dos variables. La correlación puede ser positiva (ambas variables aumentan juntas), negativa (una variable aumenta mientras la otra disminuye) o nula (no hay relación). La función `pearsonr()` de `scipy.stats` se usa para calcular el coeficiente de correlación de Pearson y el valor p asociado."
   ],
   "id": "4c8833bed281ef99"
  },
  {
   "metadata": {
    "ExecuteTime": {
     "end_time": "2025-06-04T00:19:35.463253Z",
     "start_time": "2025-06-04T00:19:34.684832Z"
    }
   },
   "cell_type": "code",
   "source": [
    "import pandas as pd\n",
    "from scipy.stats import pearsonr\n",
    "\n",
    "# Datos de ejemplo\n",
    "x = [1, 2, 3, 4, 5]\n",
    "y = [2, 3, 4, 5, 6]\n",
    "\n",
    "# Calcular la correlación de Pearson\n",
    "corr, p_value = pearsonr(x, y)\n",
    "print(f\"Coeficiente de correlación: {corr}, Valor p: {p_value}\")\n",
    "\n",
    "import pandas as pd\n",
    "\n",
    "df = pd.DataFrame({\n",
    "    'A': [1, 2, 3, 4],\n",
    "    'B': [2, 4, 6, 8],\n",
    "    'C': [4, 3, 2, 1]\n",
    "})\n",
    "\n",
    "corr = df['A'].corr(df['B'])  # Correlación entre A y B\n",
    "print(f\"Coeficiente de correlación: {corr}\")"
   ],
   "id": "1ad29817efbf76a7",
   "outputs": [
    {
     "name": "stdout",
     "output_type": "stream",
     "text": [
      "Coeficiente de correlación: 1.0, Valor p: 0.0\n",
      "Coeficiente de correlación: 1.0\n"
     ]
    }
   ],
   "execution_count": 3
  }
 ],
 "metadata": {
  "kernelspec": {
   "display_name": "Python 3",
   "language": "python",
   "name": "python3"
  },
  "language_info": {
   "codemirror_mode": {
    "name": "ipython",
    "version": 2
   },
   "file_extension": ".py",
   "mimetype": "text/x-python",
   "name": "python",
   "nbconvert_exporter": "python",
   "pygments_lexer": "ipython2",
   "version": "2.7.6"
  }
 },
 "nbformat": 4,
 "nbformat_minor": 5
}
