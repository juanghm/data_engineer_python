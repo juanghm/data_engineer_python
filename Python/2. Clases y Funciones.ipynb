{
 "cells": [
  {
   "cell_type": "markdown",
   "id": "08b29f5a-5da9-454e-bbc8-9e549f581da7",
   "metadata": {},
   "source": [
    "# 2. Clases y Funciones\n",
    "\n",
    "- Para crear una clase se debe crear el metodo __init__."
   ]
  },
  {
   "cell_type": "code",
   "execution_count": 1,
   "id": "0726352b-a27d-4bb6-adb7-52b3bd2c346b",
   "metadata": {},
   "outputs": [],
   "source": [
    "from curses import wrapper\n",
    "\n",
    "from zmq.decorators import context\n",
    "\n",
    "\n",
    "class MyClass:\n",
    "    def __init__(self):\n",
    "        self.attribute_1 = 'some value'\n",
    "        self.attribute_2 = 345\n",
    "\n",
    "    def mostrar(self):\n",
    "        print(self.attribute_1, self.attribute_2)"
   ]
  },
  {
   "cell_type": "markdown",
   "id": "f81e0db8-c046-4e49-b5de-9c05ca449d55",
   "metadata": {},
   "source": [
    "## Herencia"
   ]
  },
  {
   "cell_type": "code",
   "execution_count": 4,
   "id": "ad696787-955e-4142-9bed-6f941f2e72fb",
   "metadata": {},
   "outputs": [],
   "source": [
    "class SecondClass(MyClass):\n",
    "\n",
    "    def __init__(self, att1, att2, att3):\n",
    "        super().__init__(att1, att2)\n",
    "        self.attribute_3 = att3"
   ]
  },
  {
   "cell_type": "markdown",
   "id": "cbac62df-d575-4b87-bd46-a8f2e0b6ce58",
   "metadata": {},
   "source": [
    "## Metodos Privados\n",
    "\n",
    "- Para crear un método privado en una clase solo se debe agregar _ al inicio del nombre del método."
   ]
  },
  {
   "cell_type": "code",
   "execution_count": 5,
   "id": "9a8f4f44-18ab-42e6-bfd5-35bbc1ebc100",
   "metadata": {},
   "outputs": [],
   "source": [
    "class Ejemplo:\n",
    "    def __init__(self, valor):\n",
    "        self.valor = valor\n",
    "\n",
    "    def __metodo_privado(self):\n",
    "        print(\"Este es un método privado.\")\n",
    "\n",
    "    def metodo_publico(self):\n",
    "        print(\"Este es un método público.\")\n",
    "        self.__metodo_privado()"
   ]
  },
  {
   "cell_type": "markdown",
   "id": "55718750-a711-44ee-b98b-3524311d42b9",
   "metadata": {},
   "source": [
    "## dir()\n",
    "Este método sirve para listar los métodos de una clase.\n",
    "\n",
    "## Documentación"
   ]
  },
  {
   "cell_type": "code",
   "execution_count": 6,
   "id": "79c4692c-9af5-4e19-8405-ebeacfdc0c7a",
   "metadata": {},
   "outputs": [],
   "source": [
    "class Persona:\n",
    "    \"\"\"\n",
    "    Clase que representa a una persona.\n",
    "\n",
    "    Attributes:\n",
    "        nombre (str): El nombre de la persona.\n",
    "        edad (int): La edad de la persona.\n",
    "    \"\"\"\n",
    "    \n",
    "    def __init__(self, nombre, edad):\n",
    "        \"\"\"\n",
    "        Inicializa una nueva instancia de la clase Persona.\n",
    "\n",
    "        Args:\n",
    "            nombre (str): El nombre de la persona.\n",
    "            edad (int): La edad de la persona.\n",
    "        \"\"\"\n",
    "        self.nombre = nombre\n",
    "        self.edad = edad\n",
    "\n",
    "\n",
    "    def saludar(self):\n",
    "        \"\"\"\n",
    "        Imprime un saludo con el nombre y la edad de la persona.\n",
    "\n",
    "        >>> saludar()\n",
    "        Hola, mi nombre es {self.nombre} y tengo {self.edad} años.\n",
    "        \"\"\"\n",
    "        print(f\"Hola, mi nombre es {self.nombre} y tengo {self.edad} años.\")"
   ]
  },
  {
   "metadata": {},
   "cell_type": "markdown",
   "source": [
    "## Dataclasses\n",
    "\n",
    "Las dataclasses son una forma de crear clases en Python que se centran en almacenar datos. Se definen con el decorador @dataclass y generan automáticamente métodos como __init__, __repr__, __eq__, entre otros, basados en los atributos definidos."
   ],
   "id": "9e6ee6bfb0ac25b8"
  },
  {
   "metadata": {
    "ExecuteTime": {
     "end_time": "2025-06-17T23:24:23.855734Z",
     "start_time": "2025-06-17T23:24:23.851406Z"
    }
   },
   "cell_type": "code",
   "source": [
    "from dataclasses import dataclass\n",
    "\n",
    "@dataclass(frozen=True)  # frozen=True hace que la instancia sea inmutable\n",
    "class Persona:\n",
    "    nombre: str\n",
    "    edad: int\n",
    "\n",
    "    @property\n",
    "    def descripcion(self):\n",
    "        return f\"{self.nombre} tiene {self.edad} años.\"\n",
    "\n",
    "    def saludar(self):\n",
    "        print(f\"Hola, mi nombre es {self.nombre} y tengo {self.edad} años.\")\n",
    "\n",
    "# Ejemplo de uso\n",
    "persona = Persona(nombre=\"Juan\", edad=30)\n",
    "persona.saludar()  # Output: Hola, mi nombre es Juan y tengo 30 años."
   ],
   "id": "c23af12d1cb7b414",
   "outputs": [
    {
     "name": "stdout",
     "output_type": "stream",
     "text": [
      "Hola, mi nombre es Juan y tengo 30 años.\n"
     ]
    }
   ],
   "execution_count": 2
  },
  {
   "metadata": {},
   "cell_type": "markdown",
   "source": [
    "## Funciones\n",
    "\n",
    "### Context Managers\n",
    "Los context managers son una forma de manejar recursos de manera eficiente, asegurando que se liberen adecuadamente después de su uso. Se utilizan comúnmente con la declaración `with`, que garantiza que el recurso se cierre o libere al final del bloque.\n",
    "\n",
    "- Definir la funcion.\n",
    "- Usar la palaba clave yield para retornar un valor y pausar la ejecución de la función.\n",
    "- Agregar el decorador @contextlib.contextmanager para indicar que es un context manager."
   ],
   "id": "9f34aeae1290281a"
  },
  {
   "metadata": {},
   "cell_type": "code",
   "outputs": [],
   "execution_count": null,
   "source": [
    "import contextlib\n",
    "\n",
    "@contextlib.contextmanager\n",
    "def mi_contexto():\n",
    "    print(\"Entrando al contexto\")\n",
    "    yield  # Aquí se puede realizar alguna operación\n",
    "    print(\"Saliendo del contexto\")"
   ],
   "id": "c4158343f0067590"
  },
  {
   "metadata": {},
   "cell_type": "markdown",
   "source": [
    "## Funciones son Objetos\n",
    "Las funciones en Python son objetos de primera clase, lo que significa que pueden ser asignadas a variables, pasadas como argumentos a otras funciones y devueltas desde otras funciones. Esto permite una gran flexibilidad en la programación funcional y la creación de decoradores."
   ],
   "id": "bbdb1800a4a01739"
  },
  {
   "metadata": {},
   "cell_type": "code",
   "outputs": [],
   "execution_count": null,
   "source": [
    "def mi_funcion():\n",
    "    print(\"Esta es una función.\")\n",
    "\n",
    "var_1 = mi_funcion  # Asignar la función a una variable\n",
    "print(type(var_1))"
   ],
   "id": "6f38fd30906d4a9d"
  },
  {
   "metadata": {},
   "cell_type": "markdown",
   "source": [
    "### Closures\n",
    "Los closures son funciones anidadas que recuerdan el entorno en el que fueron creadas, incluso después de que la función externa haya terminado de ejecutarse. Esto permite que la función interna acceda a las variables locales de la función externa."
   ],
   "id": "870f275301227c0e"
  },
  {
   "metadata": {
    "ExecuteTime": {
     "end_time": "2025-06-19T00:43:34.353323Z",
     "start_time": "2025-06-19T00:43:34.346513Z"
    }
   },
   "cell_type": "code",
   "source": [
    "def mi_funcion2():\n",
    "    variable_externa = \"Hola\"\n",
    "\n",
    "    def funcion_interna():\n",
    "        print(variable_externa)  # Accede a la variable externa\n",
    "\n",
    "    return funcion_interna  # Retorna la función interna\n",
    "\n",
    "closure = mi_funcion2()  # Crea un closure\n",
    "closure()  # Llama al closure, imprime \"Hola\"\n",
    "\n",
    "closure.__closure__[0].cell_contents"
   ],
   "id": "d63616576ab82062",
   "outputs": [
    {
     "name": "stdout",
     "output_type": "stream",
     "text": [
      "Hola\n"
     ]
    },
    {
     "data": {
      "text/plain": [
       "'Hola'"
      ]
     },
     "execution_count": 3,
     "metadata": {},
     "output_type": "execute_result"
    }
   ],
   "execution_count": 3
  },
  {
   "metadata": {},
   "cell_type": "markdown",
   "source": [
    "## Decoradores\n",
    "Los decoradores son una forma de modificar o extender el comportamiento de funciones o métodos sin cambiar su código. Se definen con el símbolo `@` seguido del nombre del decorador antes de la definición de la función."
   ],
   "id": "ed9a91d7242cf0f8"
  },
  {
   "metadata": {
    "ExecuteTime": {
     "end_time": "2025-06-19T23:55:47.757708Z",
     "start_time": "2025-06-19T23:55:47.754176Z"
    }
   },
   "cell_type": "code",
   "source": [
    "def double_args(func):\n",
    "    def wrapper(a, b):\n",
    "        return func(a * 2, b * 2)\n",
    "\n",
    "    return wrapper\n",
    "\n",
    "@double_args\n",
    "def multiply(a, b):\n",
    "    return a * b\n",
    "\n",
    "print(multiply(2, 3)) # 24, porque los argumentos se duplican antes de ser pasados a la función multiply.\n",
    "\n",
    "# Es el equivalente a (en vez de usar el decorador):\n",
    "multiply = double_args(multiply)\n",
    "print(multiply(2, 3))"
   ],
   "id": "d7616382a3f5860e",
   "outputs": [
    {
     "name": "stdout",
     "output_type": "stream",
     "text": [
      "24\n"
     ]
    }
   ],
   "execution_count": 1
  },
  {
   "metadata": {},
   "cell_type": "markdown",
   "source": [
    "## Decoradores con Parámetros\n",
    "Los decoradores con parámetros permiten personalizar el comportamiento del decorador al pasar argumentos adicionales. Esto se logra definiendo una función que retorna el decorador."
   ],
   "id": "6a13c872eed4e52"
  },
  {
   "metadata": {},
   "cell_type": "code",
   "outputs": [],
   "execution_count": null,
   "source": [
    "from functools import wraps\n",
    "\n",
    "\n",
    "def run_n_times(n):\n",
    "    def decorator(func):\n",
    "        @wraps(func)\n",
    "        def wrapper(*args, **kwargs):\n",
    "            for _ in range(n):\n",
    "                func(*args, **kwargs)\n",
    "        return wrapper\n",
    "    return decorator\n",
    "\n",
    "@run_n_times(3)\n",
    "def greet(name):\n",
    "    print(f\"Hola, {name}!\")\n",
    "\n",
    "greet(\"Juan\")  # Imprime \"Hola, Juan!\" tres veces\n",
    "\n",
    "## Es equivalente a:\n",
    "run_three_times = run_n_times(3)\n",
    "\n",
    "@run_three_times\n",
    "def greet(name):\n",
    "    print(f\"Hola, {name}!\")"
   ],
   "id": "98592c3a59757178"
  }
 ],
 "metadata": {
  "kernelspec": {
   "display_name": "Python 3 (ipykernel)",
   "language": "python",
   "name": "python3"
  },
  "language_info": {
   "codemirror_mode": {
    "name": "ipython",
    "version": 3
   },
   "file_extension": ".py",
   "mimetype": "text/x-python",
   "name": "python",
   "nbconvert_exporter": "python",
   "pygments_lexer": "ipython3",
   "version": "3.13.3"
  }
 },
 "nbformat": 4,
 "nbformat_minor": 5
}
