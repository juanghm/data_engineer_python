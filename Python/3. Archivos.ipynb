{
 "cells": [
  {
   "cell_type": "markdown",
   "id": "f5a3a223-5ac0-4700-888d-504e90966e52",
   "metadata": {},
   "source": [
    "# 3. Archivos\n",
    "\n",
    "## Leer un Archivo de Texto\n",
    "Para leer un archivo de texto se utiliza:"
   ]
  },
  {
   "cell_type": "code",
   "execution_count": null,
   "id": "f1a1a10f-7ffa-4d7d-bc2a-a0487ea706da",
   "metadata": {},
   "outputs": [],
   "source": [
    "filename = 'filename_text.txt'\n",
    "file = open(filename, mode = 'r') # 'r' es para abrirlo en modo lectura.\n",
    "text = file.read()\n",
    "file.close()\n",
    "\n",
    "print(text) # mostrar el contenido del archivo."
   ]
  },
  {
   "cell_type": "markdown",
   "id": "fa3ac406-afe1-40c2-b067-b60330d12bd5",
   "metadata": {},
   "source": [
    "Se recomienda usar con un contexto para evitar dejar abierto el archivo, asi:"
   ]
  },
  {
   "cell_type": "code",
   "execution_count": null,
   "id": "0cae385c-7067-49a2-971a-aff9458aa395",
   "metadata": {},
   "outputs": [],
   "source": [
    "with open('filename_text.txt', 'r') as file:\n",
    "    print(file.read())"
   ]
  },
  {
   "cell_type": "markdown",
   "id": "c119bf79-c91e-4242-b6c2-3afb906b9225",
   "metadata": {},
   "source": [
    "## read()\n",
    "Lee u obtiene todo el contenido del archivo abierto.\n",
    "\n",
    "## readline()\n",
    "Obtiene una sola linea y pasa a la siguiente.\n",
    "\n",
    "## Pickled Files\n",
    "- Es un tipo de archivo nativo de python.\n",
    "- Se puede exportar a varios tipos de archivos.\n",
    "- Son archivos serializados. Se pueden convertir en un byte-stream."
   ]
  },
  {
   "cell_type": "code",
   "execution_count": null,
   "id": "b6096d8b-1069-482b-b86d-d301efd764a0",
   "metadata": {},
   "outputs": [],
   "source": [
    "import pickle\n",
    "\n",
    "with open('pickled_file.pkl', 'rb') as file:\n",
    "    data = pickle.load(file)\n",
    "\n",
    "print(data)"
   ]
  },
  {
   "cell_type": "markdown",
   "id": "3b140dc6-80fb-436b-a842-b41c2349398d",
   "metadata": {},
   "source": [
    "## HDF5 Files\n",
    "Formato de archivo para manejar grandes volúmenes de datos."
   ]
  },
  {
   "cell_type": "code",
   "execution_count": null,
   "id": "32dbfb23-b0c8-46b9-9394-d233917c754a",
   "metadata": {},
   "outputs": [],
   "source": [
    "import h5py\n",
    "import numpy as np\n",
    "\n",
    "# Crear un archivo HDF5 nuevo\n",
    "with h5py.File('mi_archivo.h5', 'w') as archivo:\n",
    "    # Crear un dataset\n",
    "    datos = archivo.create_dataset('mi_dataset', (100,), dtype='i')\n",
    "    datos[:] = np.arange(100)\n",
    "\n",
    "    # Crear un grupo\n",
    "    grupo = archivo.create_group('mi_grupo')\n",
    "    grupo.create_dataset('sub_dataset', data=np.random.random(100))"
   ]
  },
  {
   "cell_type": "markdown",
   "id": "fd216803-0c66-4706-ae29-d64f941d5c71",
   "metadata": {},
   "source": [
    "## SAS7BDAT Files"
   ]
  },
  {
   "cell_type": "code",
   "execution_count": null,
   "id": "02325151-3d24-421e-ac3f-24869bfe1766",
   "metadata": {},
   "outputs": [],
   "source": [
    "import pandas as pd\n",
    "from sas7bdat import SAS7BDAT\n",
    "\n",
    "# Ruta al archivo .sas7bdat\n",
    "archivo_sas = 'ruta/al/archivo.sas7bdat'\n",
    "\n",
    "# Leer el archivo .sas7bdat y convertirlo en un DataFrame de Pandas\n",
    "with SAS7BDAT(archivo_sas) as reader:\n",
    "    df = reader.to_data_frame()\n",
    "\n",
    "# Mostrar las primeras filas del DataFrame\n",
    "print(df.head())"
   ]
  }
 ],
 "metadata": {
  "kernelspec": {
   "display_name": "Python 3 (ipykernel)",
   "language": "python",
   "name": "python3"
  },
  "language_info": {
   "codemirror_mode": {
    "name": "ipython",
    "version": 3
   },
   "file_extension": ".py",
   "mimetype": "text/x-python",
   "name": "python",
   "nbconvert_exporter": "python",
   "pygments_lexer": "ipython3",
   "version": "3.13.3"
  }
 },
 "nbformat": 4,
 "nbformat_minor": 5
}
