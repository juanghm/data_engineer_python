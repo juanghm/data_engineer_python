{
 "cells": [
  {
   "metadata": {},
   "cell_type": "markdown",
   "source": [
    "# 9. Matplotlib\n",
    "Es un paquete de Python para la creación de gráficos y visualizaciones. Se utiliza para crear gráficos estáticos, animados e interactivos en Python. Es una herramienta muy útil para la visualización de datos y se integra bien con otras bibliotecas de análisis de datos como NumPy y Pandas.\n",
    "\n",
    "## Gráfico de Linea\n",
    "Para graficar una linea en dos ejes se utiliza el siguiente código:"
   ],
   "id": "b1c05fcfb1b4e8f9"
  },
  {
   "metadata": {},
   "cell_type": "code",
   "source": [
    "import matplotlib.pyplot as plt\n",
    "import numpy as np\n",
    "\n",
    "# Datos de ejemplo\n",
    "x = np.linspace(0, 10, 100)  # 100 puntos entre 0 y 10\n",
    "y = np.sin(x)  # Función seno\n",
    "\n",
    "# Se dibuja la linea.\n",
    "plt.plot(x, y, label='Función Seno')\n",
    "\n",
    "# Se puede configurar las etiquetas de los ejes y el título del gráfico.\n",
    "plt.xlabel('eje-X')\n",
    "plt.ylabel('eje-Y')\n",
    "plt.title('Linea de Seno - Ejemplo')\n",
    "\n",
    "# Agregar la leyenda\n",
    "plt.legend()\n",
    "\n",
    "# Mostrar el gráfico.\n",
    "plt.show()"
   ],
   "id": "1745cf872fe994bf",
   "outputs": [],
   "execution_count": null
  },
  {
   "metadata": {},
   "cell_type": "markdown",
   "source": [
    "## Gráfico de Dispersión\n",
    "Para graficar un gráfico de dispersión se utiliza el siguiente código:"
   ],
   "id": "4e4f6d987407b257"
  },
  {
   "metadata": {},
   "cell_type": "code",
   "source": [
    "import matplotlib.pyplot as plt\n",
    "import numpy as np\n",
    "\n",
    "# Datos de ejemplo\n",
    "x = np.random.rand(50)  # 50 puntos aleatorios para el eje X\n",
    "y = np.random.rand(50)  # 50 puntos aleatorios para el eje Y\n",
    "colors = np.random.rand(50)  # Colores aleatorios para los puntos\n",
    "sizes = np.random.rand(50) * 100  # Tamaños aleatorios para los puntos\n",
    "\n",
    "# Crear el gráfico de dispersión\n",
    "plt.scatter(x, y, c=colors, s=sizes, alpha=0.5, cmap='viridis')\n",
    "\n",
    "# Configurar etiquetas y título\n",
    "plt.xlabel('eje-X')\n",
    "plt.ylabel('eje-Y')\n",
    "plt.title('Gráfico de Dispersión - Ejemplo')\n",
    "\n",
    "# Mostrar el gráfico\n",
    "plt.colorbar()  # Agregar una barra de color\n",
    "plt.show()"
   ],
   "id": "37208887a2b0d992",
   "outputs": [],
   "execution_count": null
  },
  {
   "metadata": {},
   "cell_type": "markdown",
   "source": [
    "## Gráfico Histograma\n",
    "Para graficar un histograma se utiliza el siguiente código:"
   ],
   "id": "517abdc5b50181ec"
  },
  {
   "metadata": {},
   "cell_type": "code",
   "source": [
    "import matplotlib.pyplot as plt\n",
    "import numpy as np\n",
    "\n",
    "# Datos de ejemplo\n",
    "data = np.random.randn(1000)  # 1000 datos generados aleatoriamente con distribución normal\n",
    "\n",
    "# Crear el histograma\n",
    "plt.hist(data, bins=30, color='blue', alpha=0.7, edgecolor='black')\n",
    "\n",
    "# Configurar etiquetas y título\n",
    "plt.xlabel('Valores')\n",
    "plt.ylabel('Frecuencia')\n",
    "plt.title('Histograma - Ejemplo')\n",
    "\n",
    "# Mostrar el gráfico\n",
    "plt.show()"
   ],
   "id": "fec3bc06e16b37c4",
   "outputs": [],
   "execution_count": null
  },
  {
   "metadata": {},
   "cell_type": "markdown",
   "source": [
    "## Gráfico de Barras\n",
    "Para realizar un grafico de barras se utiliza el siguiente codigo:"
   ],
   "id": "f1f8c0e64e1b4c53"
  },
  {
   "metadata": {},
   "cell_type": "code",
   "outputs": [],
   "execution_count": null,
   "source": [
    "import matplotlib.pyplot as plt\n",
    "\n",
    "# Example data\n",
    "categories = ['A', 'B', 'C', 'D']\n",
    "values = [10, 24, 36, 18]\n",
    "\n",
    "# Create the bar chart\n",
    "plt.bar(categories, values, color='skyblue')\n",
    "\n",
    "# Add labels and title\n",
    "plt.xlabel('Categories')\n",
    "plt.ylabel('Values')\n",
    "plt.title('Bar Chart Example')\n",
    "\n",
    "# Show the plot\n",
    "plt.show()"
   ],
   "id": "47923da90c2f43b0"
  }
 ],
 "metadata": {
  "kernelspec": {
   "display_name": "Python 3",
   "language": "python",
   "name": "python3"
  },
  "language_info": {
   "codemirror_mode": {
    "name": "ipython",
    "version": 2
   },
   "file_extension": ".py",
   "mimetype": "text/x-python",
   "name": "python",
   "nbconvert_exporter": "python",
   "pygments_lexer": "ipython2",
   "version": "2.7.6"
  }
 },
 "nbformat": 4,
 "nbformat_minor": 5
}
