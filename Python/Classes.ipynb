{
 "cells": [
  {
   "cell_type": "markdown",
   "id": "08b29f5a-5da9-454e-bbc8-9e549f581da7",
   "metadata": {},
   "source": [
    "# Clases\n",
    "\n",
    "- Para crear una clase se debe crear el metodo __init__."
   ]
  },
  {
   "cell_type": "code",
   "execution_count": 1,
   "id": "0726352b-a27d-4bb6-adb7-52b3bd2c346b",
   "metadata": {},
   "outputs": [],
   "source": [
    "class MyClass:\n",
    "    def __init__(self):\n",
    "        self.attribute_1 = 'some value'\n",
    "        self.attribute_2 = 345\n",
    "\n",
    "    def mostrar(self):\n",
    "        print(self.attribute_1, self.attribute_2)"
   ]
  },
  {
   "cell_type": "markdown",
   "id": "f81e0db8-c046-4e49-b5de-9c05ca449d55",
   "metadata": {},
   "source": [
    "## Herencia"
   ]
  },
  {
   "cell_type": "code",
   "execution_count": 4,
   "id": "ad696787-955e-4142-9bed-6f941f2e72fb",
   "metadata": {},
   "outputs": [],
   "source": [
    "class SecondClass(MyClass):\n",
    "\n",
    "    def __init__(self, att1, att2, att3):\n",
    "        super().__init__(att1, att2)\n",
    "        self.attribute_3 = att3"
   ]
  },
  {
   "cell_type": "markdown",
   "id": "cbac62df-d575-4b87-bd46-a8f2e0b6ce58",
   "metadata": {},
   "source": [
    "## Metodos Privados\n",
    "\n",
    "- Para crear un método privado en una clase solo se debe agregar _ al inicio del nombre del método."
   ]
  },
  {
   "cell_type": "code",
   "execution_count": 5,
   "id": "9a8f4f44-18ab-42e6-bfd5-35bbc1ebc100",
   "metadata": {},
   "outputs": [],
   "source": [
    "class Ejemplo:\n",
    "    def __init__(self, valor):\n",
    "        self.valor = valor\n",
    "\n",
    "    def __metodo_privado(self):\n",
    "        print(\"Este es un método privado.\")\n",
    "\n",
    "    def metodo_publico(self):\n",
    "        print(\"Este es un método público.\")\n",
    "        self.__metodo_privado()"
   ]
  },
  {
   "cell_type": "markdown",
   "id": "55718750-a711-44ee-b98b-3524311d42b9",
   "metadata": {},
   "source": [
    "## dir()\n",
    "Este método sirve para listar los métodos de una clase.\n",
    "\n",
    "## Documentación"
   ]
  },
  {
   "cell_type": "code",
   "execution_count": 6,
   "id": "79c4692c-9af5-4e19-8405-ebeacfdc0c7a",
   "metadata": {},
   "outputs": [],
   "source": [
    "class Persona:\n",
    "    \"\"\"\n",
    "    Clase que representa a una persona.\n",
    "\n",
    "    Attributes:\n",
    "        nombre (str): El nombre de la persona.\n",
    "        edad (int): La edad de la persona.\n",
    "    \"\"\"\n",
    "    \n",
    "    def __init__(self, nombre, edad):\n",
    "        \"\"\"\n",
    "        Inicializa una nueva instancia de la clase Persona.\n",
    "\n",
    "        Args:\n",
    "            nombre (str): El nombre de la persona.\n",
    "            edad (int): La edad de la persona.\n",
    "        \"\"\"\n",
    "        self.nombre = nombre\n",
    "        self.edad = edad\n",
    "\n",
    "\n",
    "    def saludar(self):\n",
    "        \"\"\"\n",
    "        Imprime un saludo con el nombre y la edad de la persona.\n",
    "\n",
    "        >>> saludar()\n",
    "        Hola, mi nombre es {self.nombre} y tengo {self.edad} años.\n",
    "        \"\"\"\n",
    "        print(f\"Hola, mi nombre es {self.nombre} y tengo {self.edad} años.\")"
   ]
  }
 ],
 "metadata": {
  "kernelspec": {
   "display_name": "Python 3 (ipykernel)",
   "language": "python",
   "name": "python3"
  },
  "language_info": {
   "codemirror_mode": {
    "name": "ipython",
    "version": 3
   },
   "file_extension": ".py",
   "mimetype": "text/x-python",
   "name": "python",
   "nbconvert_exporter": "python",
   "pygments_lexer": "ipython3",
   "version": "3.13.3"
  }
 },
 "nbformat": 4,
 "nbformat_minor": 5
}
