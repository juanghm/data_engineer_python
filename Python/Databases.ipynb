{
 "cells": [
  {
   "cell_type": "markdown",
   "id": "30165d8c-925b-4e8a-b45e-46334477361e",
   "metadata": {},
   "source": [
    "# Databases\n",
    "\n",
    "## sqlalchemy\n",
    "Libreria que permite conectarse a bases de datos."
   ]
  },
  {
   "cell_type": "code",
   "execution_count": null,
   "id": "58ee1088-868e-4dba-a5d5-4e756a841859",
   "metadata": {},
   "outputs": [],
   "source": [
    "from sqlalchemy import create_engine\n",
    "\n",
    "engine = create_engine('sqlite:///Chinook.sqlite')\n",
    "table_names = engine.table_names()"
   ]
  },
  {
   "cell_type": "markdown",
   "id": "195422ee-bf81-4d6b-9088-35ef52b92c43",
   "metadata": {},
   "source": [
    "## Query Databases"
   ]
  },
  {
   "cell_type": "code",
   "execution_count": null,
   "id": "9be43d2a-fbf2-4b20-b79a-13d9ecc6e353",
   "metadata": {},
   "outputs": [],
   "source": [
    "from sqlalchemy import create_engine\n",
    "import pandas as pd\n",
    "\n",
    "engine = create_engine('sqlite:///Chinook.sqlite')\n",
    "\n",
    "with engine.connect() as con:\n",
    "    rs = con.execute('SELECT * FROM Orders')\n",
    "    df = pd.DataFrame(rs.fetchall()) #Obtiene todas las filas.\n",
    "    df = pd.DataFrame(rs.fetchmany(size=5)) # Obtiene 5 filas.\n",
    "    df.columns = rs.keys() # Setear los nombres de las columnas.\n",
    "\n",
    "print(df.head())"
   ]
  }
 ],
 "metadata": {
  "kernelspec": {
   "display_name": "Python 3 (ipykernel)",
   "language": "python",
   "name": "python3"
  },
  "language_info": {
   "codemirror_mode": {
    "name": "ipython",
    "version": 3
   },
   "file_extension": ".py",
   "mimetype": "text/x-python",
   "name": "python",
   "nbconvert_exporter": "python",
   "pygments_lexer": "ipython3",
   "version": "3.13.3"
  }
 },
 "nbformat": 4,
 "nbformat_minor": 5
}
