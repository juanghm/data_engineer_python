{
 "cells": [
  {
   "cell_type": "markdown",
   "id": "5b8891a3-326e-4564-8a01-d00278331ef5",
   "metadata": {
    "editable": true,
    "slideshow": {
     "slide_type": ""
    },
    "tags": []
   },
   "source": [
    "# Efficient Code\n",
    "\n",
    "- Consumir menos memoria.\n",
    "- Fácil de leer.\n",
    "\n",
    "## Standard Library\n",
    "\n",
    "### range()"
   ]
  },
  {
   "cell_type": "code",
   "execution_count": 2,
   "id": "816c4208-05b4-4be3-a6bd-71d5122b4578",
   "metadata": {},
   "outputs": [],
   "source": [
    "nums = range(11)\n",
    "\n",
    "nums_list = [*nums] #Convierte el objeto rango en una lista. Es MAS eficiente.\n",
    "nums_list = list(nums) #Convierte el objeto rango en una lista."
   ]
  },
  {
   "cell_type": "markdown",
   "id": "9d865eec-379e-4aae-8a85-659df9a927cc",
   "metadata": {
    "editable": true,
    "slideshow": {
     "slide_type": ""
    },
    "tags": []
   },
   "source": [
    "## enumerate()\n",
    "Cuando se necesite enumerar los items de una lista es mas eficiente que un ciclo."
   ]
  },
  {
   "cell_type": "code",
   "execution_count": 3,
   "id": "f9ec1b0e-90be-42d1-b38a-45ccd7a2e0c0",
   "metadata": {},
   "outputs": [
    {
     "name": "stdout",
     "output_type": "stream",
     "text": [
      "[(0, 'a'), (1, 'b'), (2, 'c'), (3, 'd')]\n"
     ]
    }
   ],
   "source": [
    "letters = ['a', 'b', 'c', 'd']\n",
    "\n",
    "indexed_letters = enumerate(letters) #Genera un objeto enumerate y enumera iniciándo en cero.\n",
    "\n",
    "print(list(indexed_letters)) #[(0, 'a'), (1, 'b'), (2, 'c'), ...]\n",
    "\n",
    "indexed_letters = enumerate(letters, start=5) #Genera un objeto enumerate y enumera iniciándo en 5."
   ]
  },
  {
   "cell_type": "markdown",
   "id": "ab625c7e-6154-4e5e-b4e4-c87202996522",
   "metadata": {},
   "source": [
    "## map()\n",
    "Es mas eficiente para aplicar operaciones a una lista que hacerlo en un ciclo."
   ]
  },
  {
   "cell_type": "code",
   "execution_count": 4,
   "id": "d3abc4fa-4f8b-4f80-ba09-397fc202c269",
   "metadata": {},
   "outputs": [
    {
     "name": "stdout",
     "output_type": "stream",
     "text": [
      "[2, 2, 3, 5]\n",
      "[1, 4, 9, 16]\n"
     ]
    }
   ],
   "source": [
    "nums = [1.5, 2.3, 3.4, 4.6]\n",
    "\n",
    "rnd_nums = map(round, nums) #Aplica la funcion round a cada item de la lista.\n",
    "\n",
    "print(list(rnd_nums)) #[2, 2, 3, 5]\n",
    "\n",
    "nums = [1, 2, 3, 4]\n",
    "\n",
    "sqr_nums = map(lambda x: x ** 2, nums)\n",
    "\n",
    "print(list(sqr_nums)) #[1, 4, 9, 16]"
   ]
  },
  {
   "cell_type": "markdown",
   "id": "9591f80f-d5b3-4113-9fdb-7678675a6921",
   "metadata": {},
   "source": [
    "## List Comprehension\n",
    "Permite aplicar una operacion sobre los elementos de una lista y resulta mas eficiente que usar un ciclo."
   ]
  },
  {
   "cell_type": "code",
   "execution_count": 5,
   "id": "b8465586-7a0e-40ae-afe0-077a8f0cfda9",
   "metadata": {},
   "outputs": [
    {
     "name": "stdout",
     "output_type": "stream",
     "text": [
      "[1, 4, 9, 16, 25]\n",
      "[2, 4, 6, 8, 10]\n",
      "['impar', 'par', 'impar', 'par', 'impar']\n",
      "[(1, 'Alice'), (2, 'Bob'), (3, 'Charlie')]\n"
     ]
    }
   ],
   "source": [
    "#[expresion for elemento in iterable if condition]\n",
    "\n",
    "nums = [1, 2, 3, 4, 5]\n",
    "squares = [x**2 for x in nums]\n",
    "print(squares)  # [1, 4, 9, 16, 25]\n",
    "\n",
    "nums = [1, 2, 3, 4, 5, 6, 7, 8, 9, 10]\n",
    "even_numbers = [x for x in nums if x % 2 == 0]\n",
    "print(even_numbers)  # [2, 4, 6, 8, 10]\n",
    "\n",
    "numbers = [1, 2, 3, 4, 5]\n",
    "result = [\"par\" if x % 2 == 0 else \"impar\" for x in numbers]\n",
    "print(result)  #['impar', 'par', 'impar', 'par', 'impar']\n",
    "\n",
    "names = [\"Alice\", \"Bob\", \"Charlie\"]\n",
    "indexed_names = [(i, name) for i, name in enumerate(names, start=1)]\n",
    "print(indexed_names)  # [(1, 'Alice'), (2, 'Bob'), (3, 'Charlie')]"
   ]
  },
  {
   "cell_type": "markdown",
   "id": "cf323b7d-4e69-469c-a335-0981704297d1",
   "metadata": {},
   "source": [
    "## Examining Runtime\n",
    "\n",
    "### Code Profiling - Time\n",
    "\n",
    "#### Magic Commands\n",
    "\n",
    "Son comandos que permiten medir tiempos de ejecución en un código de python."
   ]
  },
  {
   "cell_type": "code",
   "execution_count": 7,
   "id": "ceb0996e-9999-4f4e-a6fa-f4d85cecbf66",
   "metadata": {},
   "outputs": [
    {
     "name": "stdout",
     "output_type": "stream",
     "text": [
      "3.82 μs ± 8.53 ns per loop (mean ± std. dev. of 7 runs, 100,000 loops each)\n"
     ]
    },
    {
     "name": "stderr",
     "output_type": "stream",
     "text": [
      "UsageError: Line magic function `%%timeit` not found.\n"
     ]
    }
   ],
   "source": [
    "import numpy as np\n",
    "\n",
    "%timeit rand = np.random.rand(1000) #Muestra el tiempo de ejecución.\n",
    "\n",
    "#Muestra el tiempo de ejecución de varias lineas\n",
    "%%timeit\n",
    "nums = []\n",
    "for x in range(10):\n",
    "    nums.append(x)\n",
    "\n",
    "#Se puede guardar la salida en una variable.\n",
    "times = %timeit -o rand = np.random.rand(1000)\n",
    "\n",
    "times.timings #Los tiempos de todas las ejecuciones.\n",
    "times.best #La mejor ejecución.\n",
    "times.worst #La peor ejecución.\n",
    "\n",
    "#Mide el tiempo de ejecución en 2 ejecuciónes de 25 ciclos.\n",
    "%timeit -r5 -n25 set(heroes)"
   ]
  },
  {
   "cell_type": "markdown",
   "id": "3e5a0570-2b68-4ddd-a796-312b6afb8384",
   "metadata": {},
   "source": [
    "## Line Profiler\n",
    "Similar a %timeit  pero permite analizar la ejecución de cada linea de código.\n",
    "\n",
    "```pip install line_profiler```\n",
    "\n",
    "```python\n",
    "%load_ext line_profiler\n",
    "\n",
    "#Genera una tabla con estadisticas de ejecucion de cada linea de la funcion.\n",
    "%lprun -f function_name function_name(param1, param2, param3)\n",
    "```"
   ]
  },
  {
   "cell_type": "markdown",
   "id": "a80e0931-2f53-4cd1-9f74-e89263ba083a",
   "metadata": {},
   "source": [
    "## Code Profiling - Memory\n",
    "\n",
    "Permite analizar el consumo de memoria linea a linea. Las funciones a analizar deben estar creadas en un archivo no en la sesión de ejecución de python.\n",
    "\n",
    "```pip install memory_profiler```\n",
    "\n",
    "```python\n",
    "%load_ext memory_profiler\n",
    "\n",
    "#Genera una tabla con estadisticas de uso de memoria de cada linea de la funcion.\n",
    "%mprun -f function_name function_name(param1, param2, param3)\n",
    "```"
   ]
  }
 ],
 "metadata": {
  "kernelspec": {
   "display_name": "Python 3 (ipykernel)",
   "language": "python",
   "name": "python3"
  },
  "language_info": {
   "codemirror_mode": {
    "name": "ipython",
    "version": 3
   },
   "file_extension": ".py",
   "mimetype": "text/x-python",
   "name": "python",
   "nbconvert_exporter": "python",
   "pygments_lexer": "ipython3",
   "version": "3.13.3"
  }
 },
 "nbformat": 4,
 "nbformat_minor": 5
}
