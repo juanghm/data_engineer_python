{
 "cells": [
  {
   "cell_type": "markdown",
   "id": "e4630ce7-36d7-4dda-b1e8-291c1df4f5ef",
   "metadata": {},
   "source": [
    "# Errors\n",
    "\n",
    "## try - except\n",
    "- Para capturar las excepciones se utiliza try - except."
   ]
  },
  {
   "cell_type": "code",
   "execution_count": 12,
   "id": "bde90296-36e0-44b1-9bcc-af50f02aac70",
   "metadata": {},
   "outputs": [],
   "source": [
    "def test_error():\n",
    "    try:\n",
    "        resultado = 10 / 0 #Codigo que puede causar una excepcion\n",
    "    except ZeroDivisionError as e:\n",
    "        print(f\"Error: {e}\") #Código que se ejecuta si ocurre una excepción de tipo ZeroDivisionError\n",
    "    else:\n",
    "        #Código que se ejecuta si no ocurre ninguna excepción\n",
    "        print(\"No se produjo ninguna excepción.\")\n",
    "    finally:\n",
    "        #Código que se ejecuta siempre, ocurra o no una excepción\n",
    "        print(\"Finalización del bloque try-except.\")"
   ]
  },
  {
   "cell_type": "markdown",
   "id": "932048b7-d1b1-4c2a-aa72-774e39a6a212",
   "metadata": {},
   "source": [
    "## Logging\n",
    "\n",
    "Permite registrar mensajes con diferentes niveles de severidad.\n",
    "\n",
    "- DEBUG: Información detallada, típicamente para diagnosticar problemas.\n",
    "- INFO: Confirmación de que las cosas están funcionando según lo esperado.\n",
    "- WARNING: Indicación de que algo inesperado ocurrió, pero el programa sigue funcionando.\n",
    "- ERROR: Fallos debido a problemas más serios.\n",
    "- CRITICAL: Errores graves que impiden que el programa continúe."
   ]
  },
  {
   "cell_type": "code",
   "execution_count": 13,
   "id": "adde2fc2-b9a3-4a32-baf8-af225153d880",
   "metadata": {},
   "outputs": [
    {
     "name": "stderr",
     "output_type": "stream",
     "text": [
      "DEBUG:root:Este es un mensaje DEBUG\n",
      "INFO:root:Este es un mensaje INFO\n",
      "WARNING:root:Este es un mensaje WARNING\n",
      "ERROR:root:Este es un mensaje ERROR\n",
      "CRITICAL:root:Este es un mensaje CRITICAL\n"
     ]
    }
   ],
   "source": [
    "import logging\n",
    "\n",
    "# Configurar el nivel de logging\n",
    "logging.basicConfig(level=logging.DEBUG)\n",
    "\n",
    "# Generar mensajes de log\n",
    "logging.debug('Este es un mensaje DEBUG')\n",
    "logging.info('Este es un mensaje INFO')\n",
    "logging.warning('Este es un mensaje WARNING')\n",
    "logging.error('Este es un mensaje ERROR')\n",
    "logging.critical('Este es un mensaje CRITICAL')"
   ]
  }
 ],
 "metadata": {
  "kernelspec": {
   "display_name": "Python 3 (ipykernel)",
   "language": "python",
   "name": "python3"
  },
  "language_info": {
   "codemirror_mode": {
    "name": "ipython",
    "version": 3
   },
   "file_extension": ".py",
   "mimetype": "text/x-python",
   "name": "python",
   "nbconvert_exporter": "python",
   "pygments_lexer": "ipython3",
   "version": "3.13.3"
  }
 },
 "nbformat": 4,
 "nbformat_minor": 5
}
