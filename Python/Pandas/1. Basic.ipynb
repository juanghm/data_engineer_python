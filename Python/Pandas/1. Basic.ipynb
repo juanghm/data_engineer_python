{
 "cells": [
  {
   "cell_type": "markdown",
   "id": "3fb70d15-e518-4806-8835-a3cfc4da6ec7",
   "metadata": {},
   "source": [
    "# 1. Basics\n",
    "Librería que se usa para el análisis de datos. Utiliza internamente NumPy por lo que aprovecha las características optimizadas como Broadcasting.\n",
    "\n",
    "## DataFrame\n",
    "Es una estructura de datos bidimensional, similar a una tabla de base de datos o una hoja de cálculo. Se compone de filas y columnas, donde cada columna puede tener un tipo de dato diferente (números, cadenas, fechas, etc.). Los DataFrames son la estructura de datos más utilizada en Pandas."
   ]
  },
  {
   "metadata": {
    "ExecuteTime": {
     "end_time": "2025-05-06T00:13:29.942081Z",
     "start_time": "2025-05-06T00:13:29.378508Z"
    }
   },
   "cell_type": "code",
   "source": [
    "# Import pandas as pd\n",
    "import pandas as pd\n",
    "\n",
    "\n",
    "# Pre-defined lists\n",
    "names = ['United States', 'Australia', 'Japan', 'India', 'Russia', 'Morocco', 'Egypt']\n",
    "dr =  [True, False, False, False, True, True, True]\n",
    "cpc = [809, 731, 588, 18, 200, 70, 45]\n",
    "\n",
    "# Create dictionary my_dict with three key:value pairs: my_dict\n",
    "my_dict = {'country': names, 'drives_right': dr, 'cars_per_cap': cpc}\n",
    "\n",
    "# Build a DataFrame cars from my_dict: cars\n",
    "cars = pd.DataFrame(my_dict)\n",
    "\n",
    "# Print cars\n",
    "print(cars)"
   ],
   "id": "1a3a11fa19c3ccfe",
   "outputs": [
    {
     "name": "stdout",
     "output_type": "stream",
     "text": [
      "         country  drives_right  cars_per_cap\n",
      "0  United States          True           809\n",
      "1      Australia         False           731\n",
      "2          Japan         False           588\n",
      "3          India         False            18\n",
      "4         Russia          True           200\n",
      "5        Morocco          True            70\n",
      "6          Egypt          True            45\n"
     ]
    }
   ],
   "execution_count": 1
  },
  {
   "metadata": {},
   "cell_type": "markdown",
   "source": [
    "## Broadcasting\n",
    "Es la propiedad que permite aplicar operaciones sobre columnas de un DataFrame."
   ],
   "id": "aef4f995262a3579"
  },
  {
   "cell_type": "code",
   "execution_count": 3,
   "id": "87b09e0a-fa9c-4ef0-a374-98dd126a732d",
   "metadata": {},
   "outputs": [
    {
     "name": "stdout",
     "output_type": "stream",
     "text": [
      "    A   B    C    D\n",
      "0  10  50   90   60\n",
      "1  20  60  100   80\n",
      "2  30  70  110  100\n",
      "3  40  80  120  120\n"
     ]
    }
   ],
   "source": [
    "import pandas as pd\n",
    "\n",
    "data = {\n",
    "    'A': [10, 20, 30, 40],\n",
    "    'B': [50, 60, 70, 80],\n",
    "    'C': [90, 100, 110, 120]\n",
    "}\n",
    "\n",
    "df = pd.DataFrame(data)\n",
    "\n",
    "#Al convertirse en DataFrame queda asi:\n",
    "#    A   B    C\n",
    "# 0  10  50   90\n",
    "# 1  20  60  100\n",
    "# 2  30  70  110\n",
    "# 3  40  80  120\n",
    "\n",
    "df['D'] = df['A'].values + df['B'].values #Crea la columna D que equivale a la suma de A+B\n",
    "\n",
    "print(df.head())"
   ]
  },
  {
   "cell_type": "markdown",
   "id": "c2a20c23-4515-473b-b8c2-6183f59fe1c1",
   "metadata": {
    "editable": true,
    "slideshow": {
     "slide_type": ""
    },
    "tags": []
   },
   "source": [
    "## .iloc\n",
    "Es un indexador que se utiliza para seleccionar filas y columnas en un DataFrame o una Serie. Funciona con indices enteros es decir con las posiciones de las filas y columnas. No incluye el limite final.\n",
    "\n",
    "- df.iloc[index_filas, index_columnas]:  Selecciona los datos basado en posiciones de filas y columnas.\n",
    "- df.iloc[index_filas]: Selecciona todas las columnas para las filas especificadas.\n",
    "- df.iloc[:, index_columnas]: Selecciona todas las filas para las columnas especificadas."
   ]
  },
  {
   "cell_type": "code",
   "execution_count": 5,
   "id": "ef93d2d9-021d-4b9c-91f9-eeb30493f3dc",
   "metadata": {},
   "outputs": [
    {
     "name": "stdout",
     "output_type": "stream",
     "text": [
      "A    10\n",
      "B    50\n",
      "C    90\n",
      "Name: 0, dtype: int64\n",
      "100\n",
      "    A   B    C\n",
      "0  10  50   90\n",
      "1  20  60  100\n",
      "    A   B\n",
      "0  10  50\n",
      "1  20  60\n",
      "2  30  70\n",
      "3  40  80\n",
      "    B    C\n",
      "1  60  100\n",
      "2  70  110\n"
     ]
    }
   ],
   "source": [
    "import pandas as pd\n",
    "\n",
    "data = {\n",
    "    'A': [10, 20, 30, 40],\n",
    "    'B': [50, 60, 70, 80],\n",
    "    'C': [90, 100, 110, 120]\n",
    "}\n",
    "\n",
    "df = pd.DataFrame(data)\n",
    "\n",
    "#Al convertirse en DataFrame queda asi:\n",
    "#    A   B    C\n",
    "# 0  10  50   90\n",
    "# 1  20  60  100\n",
    "# 2  30  70  110\n",
    "# 3  40  80  120\n",
    "\n",
    "\n",
    "print(df.iloc[0]) #Muestra la primera fila\n",
    "\n",
    "# Salida:\n",
    "# A    10\n",
    "# B    50\n",
    "# C    90\n",
    "\n",
    "\n",
    "print(df.iloc[1, 2]) # Muestra el 3er elemento de la 2da fila\n",
    "\n",
    "# Salida: 100\n",
    "\n",
    "\n",
    "print(df.iloc[0:2, :]) # Muestra todas las columnas de los primeras 2 filas\n",
    "\n",
    "# Salida:\n",
    "#     A   B    C\n",
    "# 0  10  50   90\n",
    "# 1  20  60  100\n",
    "\n",
    "\n",
    "print(df.iloc[:, 0:2]) # Muestra todas las filas de las 2 primeras columnas.\n",
    "# Salida:\n",
    "#    A   B    \n",
    "# 0  10  50   \n",
    "# 1  20  60  \n",
    "# 2  30  70  \n",
    "# 3  40  80\n",
    "\n",
    "\n",
    "print(df.iloc[1:3, 1:3]) # Muestra las columnas 1 y 2 de las filas 1 y 2.\n",
    "\n",
    "# Salida:\n",
    "#    B    C\n",
    "# 1  60  100\n",
    "# 2  70  110"
   ]
  },
  {
   "cell_type": "markdown",
   "id": "b16827fb-6e6c-41d8-bbd7-63a5eee423c7",
   "metadata": {},
   "source": [
    "## .loc()\n",
    "\n",
    "Permite seleccionar filas y columnas mediante etiquetas. Incluye el inicio y el final del rango seleccionado."
   ]
  },
  {
   "cell_type": "code",
   "execution_count": 6,
   "id": "4e2dbfa5-5d05-4abd-84cd-2af6af44d135",
   "metadata": {},
   "outputs": [
    {
     "name": "stdout",
     "output_type": "stream",
     "text": [
      "A    20\n",
      "B    50\n",
      "Name: y, dtype: int64\n",
      "    A   B\n",
      "x  10  40\n",
      "y  20  50\n"
     ]
    }
   ],
   "source": [
    "import pandas as pd\n",
    "\n",
    "# Crear un DataFrame\n",
    "df = pd.DataFrame({\n",
    "    'A': [10, 20, 30],\n",
    "    'B': [40, 50, 60]\n",
    "}, index=['x', 'y', 'z'])\n",
    "\n",
    "# Seleccionar una fila por su etiqueta\n",
    "print(df.loc['y'])  # Resultado: A=20, B=50\n",
    "\n",
    "# Seleccionar un rango de filas\n",
    "print(df.loc['x':'y'])  # Incluye 'x' y 'y'"
   ]
  },
  {
   "cell_type": "markdown",
   "id": "5ae7814a-ac4a-4378-adc3-0c2271790326",
   "metadata": {},
   "source": [
    "También se puede usar para filtrar, por ejemplo:"
   ]
  },
  {
   "cell_type": "code",
   "execution_count": 11,
   "id": "dce211fa-e85c-4003-97c9-1d751adc21a7",
   "metadata": {},
   "outputs": [
    {
     "name": "stdout",
     "output_type": "stream",
     "text": [
      "  Nombre  Edad     Ciudad\n",
      "1   Luis    34  Barcelona\n",
      "   Nombre  Edad\n",
      "0     Ana    28\n",
      "1    Luis    34\n",
      "2  Carlos    29\n",
      "  Nombre  Edad\n",
      "1   Luis    34\n"
     ]
    }
   ],
   "source": [
    "import pandas as pd\n",
    "\n",
    "data = {\n",
    "    'Nombre': ['Ana', 'Luis', 'Carlos'],\n",
    "    'Edad': [28, 34, 29],\n",
    "    'Ciudad': ['Madrid', 'Barcelona', 'Valencia']\n",
    "}\n",
    "\n",
    "df = pd.DataFrame(data)\n",
    "\n",
    "#Al convertirse en DataFrame queda asi:\n",
    "\n",
    "#    Nombre  Edad     Ciudad\n",
    "# 0     Ana    28     Madrid\n",
    "# 1    Luis    34  Barcelona\n",
    "# 2  Carlos    29   Valencia\n",
    "\n",
    "\n",
    "df_clean = df.loc[df['Edad'] > 30, :] #Retorna todas las filas con 'open' > 0\n",
    "print(df_clean.head())\n",
    "\n",
    "df_clean = df.loc[:, ['Nombre', 'Edad']] #Retorna SOLO las columnas seleccionadas\n",
    "print(df_clean.head())\n",
    "\n",
    "# Combinacion de las dos.\n",
    "df_clean = df.loc[df['Edad'] > 30, ['Nombre', 'Edad']]\n",
    "print(df_clean.head())"
   ]
  },
  {
   "cell_type": "markdown",
   "id": "02017d52-6733-457d-b7cf-e8fa9931859f",
   "metadata": {},
   "source": [
    "## .iterrows()\n",
    "\n",
    "Permite iterar entre las filas de un dataframe sin necesidad de usar un range, es una manera mas eficiente de recorrer un dataframe. Produce pares de tuplas, donde cada tupla contiene un indice de la fila y una serie que representa los datos de la fila:"
   ]
  },
  {
   "cell_type": "code",
   "execution_count": 9,
   "id": "b7f6b07d-0e4f-4852-9bf8-d092b4a75a3a",
   "metadata": {},
   "outputs": [
    {
     "name": "stdout",
     "output_type": "stream",
     "text": [
      "Indice: 0\n",
      "Nombre: Ana\n",
      "Edad: 28\n",
      "Indice: 1\n",
      "Nombre: Luis\n",
      "Edad: 34\n",
      "Indice: 2\n",
      "Nombre: Carlos\n",
      "Edad: 29\n",
      "Indice: 0\n",
      "Nombre: Ana\n",
      "Edad: 28\n",
      "Indice: 1\n",
      "Nombre: Luis\n",
      "Edad: 34\n",
      "Indice: 2\n",
      "Nombre: Carlos\n",
      "Edad: 29\n"
     ]
    }
   ],
   "source": [
    "import pandas as pd\n",
    "\n",
    "data = {\n",
    "    'Nombre': ['Ana', 'Luis', 'Carlos'],\n",
    "    'Edad': [28, 34, 29],\n",
    "    'Ciudad': ['Madrid', 'Barcelona', 'Valencia']\n",
    "}\n",
    "\n",
    "df = pd.DataFrame(data)\n",
    "\n",
    "#Al convertirse en DataFrame queda asi:\n",
    "\n",
    "#    Nombre  Edad     Ciudad\n",
    "# 0     Ana    28     Madrid\n",
    "# 1    Luis    34  Barcelona\n",
    "# 2  Carlos    29   Valencia\n",
    "\n",
    "\n",
    "for index, row in df.iterrows():\n",
    "    print(f\"Indice: {index}\")\n",
    "    print(f\"Nombre: {row['Nombre']}\")\n",
    "    print(f\"Edad: {row['Edad']}\")\n",
    "\n",
    "\n",
    "for row_tuple in df.iterrows():\n",
    "    index = row_tuple[0]\n",
    "    row = row_tuple[1]\n",
    "    print(f\"Indice: {index}\")\n",
    "    print(f\"Nombre: {row['Nombre']}\")\n",
    "    print(f\"Edad: {row['Edad']}\")"
   ]
  },
  {
   "cell_type": "markdown",
   "id": "bfa97622-7d26-4a3f-a877-d7a9e880c4b7",
   "metadata": {},
   "source": [
    "## .itertuples()\n",
    "\n",
    "Es similar a .iterrows pero retornable una named_tuple, es mucho mas eficiente que iterrows:"
   ]
  },
  {
   "cell_type": "code",
   "execution_count": 12,
   "id": "7aa8ce6a-d055-47b8-aa33-ff9e9c07a421",
   "metadata": {},
   "outputs": [
    {
     "name": "stdout",
     "output_type": "stream",
     "text": [
      "Pandas(Index=0, Nombre='Ana', Edad=28, Ciudad='Madrid')\n",
      "0\n",
      "Ana\n",
      "Pandas(Index=1, Nombre='Luis', Edad=34, Ciudad='Barcelona')\n",
      "1\n",
      "Luis\n",
      "Pandas(Index=2, Nombre='Carlos', Edad=29, Ciudad='Valencia')\n",
      "2\n",
      "Carlos\n"
     ]
    }
   ],
   "source": [
    "import pandas as pd\n",
    "\n",
    "data = {\n",
    "    'Nombre': ['Ana', 'Luis', 'Carlos'],\n",
    "    'Edad': [28, 34, 29],\n",
    "    'Ciudad': ['Madrid', 'Barcelona', 'Valencia']\n",
    "}\n",
    "\n",
    "df = pd.DataFrame(data)\n",
    "\n",
    "#Al convertirse en DataFrame queda asi:\n",
    "\n",
    "#    Nombre  Edad     Ciudad\n",
    "# 0     Ana    28     Madrid\n",
    "# 1    Luis    34  Barcelona\n",
    "# 2  Carlos    29   Valencia\n",
    "\n",
    "for row_namedtuple in df.itertuples():\n",
    "    print(row_namedtuple)\n",
    "    print(row_namedtuple.Index)\n",
    "    print(row_namedtuple.Nombre)\n",
    "\n",
    "# Salida:\n",
    "# Pandas(Index=0, Nombre='Ana', Edad=28, Ciudad='Madrid')\n",
    "# 0\n",
    "# Ana"
   ]
  },
  {
   "cell_type": "markdown",
   "id": "ed4b76f1-5228-4b6a-aac0-968c2a127155",
   "metadata": {},
   "source": [
    "## .concat()\n",
    "\n",
    "Si los data frames a concatenar tiene index por default se debe ignorar el index usando ignore_index = True"
   ]
  },
  {
   "cell_type": "code",
   "execution_count": 18,
   "id": "70d8bf48-b5eb-4015-8e53-67fafd613332",
   "metadata": {},
   "outputs": [
    {
     "name": "stdout",
     "output_type": "stream",
     "text": [
      "   A  B\n",
      "0  1  3\n",
      "1  2  4\n",
      "0  5  7\n",
      "1  6  8\n",
      "   A  B  A  B\n",
      "0  1  3  5  7\n",
      "1  2  4  6  8\n"
     ]
    }
   ],
   "source": [
    "import pandas as pd\n",
    "\n",
    "# Crear DataFrames de ejemplo\n",
    "df1 = pd.DataFrame({'A': [1, 2], 'B': [3, 4]})\n",
    "df2 = pd.DataFrame({'A': [5, 6], 'B': [7, 8]})\n",
    "\n",
    "# Concatenar verticalmente, axis=0\n",
    "result = pd.concat([df1, df2])\n",
    "print(result)\n",
    "\n",
    "# Concatenar horizontalmente, axis=1\n",
    "result = pd.concat([df1, df2], axis=1)\n",
    "print(result)"
   ]
  },
  {
   "cell_type": "markdown",
   "id": "3f26c99b-c800-4050-b025-91094d210dc4",
   "metadata": {},
   "source": [
    "## .merge()\n",
    "Para hacer el merge de dos data frames. Similar al join de sql. Por defecto retorna solo las filas que hacen match\n",
    "\n",
    "- **on**: Si las columnas se llaman igual en ambos datasets.\n",
    "- **left_on & right_on**: Cuando se quiere hacer match de columnas con diferente nombre."
   ]
  },
  {
   "cell_type": "code",
   "execution_count": 21,
   "id": "9620646a-2d27-4ec6-81cd-34c3ff1f5c7c",
   "metadata": {},
   "outputs": [
    {
     "name": "stdout",
     "output_type": "stream",
     "text": [
      "   id nombre  edad\n",
      "0   2    Ana    25\n",
      "1   3   Luis    30\n"
     ]
    }
   ],
   "source": [
    "import pandas as pd\n",
    "\n",
    "# Crear DataFrames de ejemplo\n",
    "df1 = pd.DataFrame({\n",
    "    'id': [1, 2, 3],\n",
    "    'nombre': ['Juan', 'Ana', 'Luis']\n",
    "})\n",
    "\n",
    "df2 = pd.DataFrame({\n",
    "    'id': [2, 3, 4],\n",
    "    'edad': [25, 30, 22]\n",
    "})\n",
    "\n",
    "result = df1.merge(df2, on='id')\n",
    "print(result)"
   ]
  }
 ],
 "metadata": {
  "kernelspec": {
   "display_name": "Python 3 (ipykernel)",
   "language": "python",
   "name": "python3"
  },
  "language_info": {
   "codemirror_mode": {
    "name": "ipython",
    "version": 3
   },
   "file_extension": ".py",
   "mimetype": "text/x-python",
   "name": "python",
   "nbconvert_exporter": "python",
   "pygments_lexer": "ipython3",
   "version": "3.13.3"
  }
 },
 "nbformat": 4,
 "nbformat_minor": 5
}
