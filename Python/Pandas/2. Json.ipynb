{
 "cells": [
  {
   "cell_type": "markdown",
   "id": "d4f757b7-e7d6-4d1b-968e-943a74132767",
   "metadata": {},
   "source": [
    "# Json\n",
    "Se puede leer un archivo o una cadena en formato json usando el metodo read_json."
   ]
  },
  {
   "cell_type": "code",
   "execution_count": 1,
   "id": "280e9ada-06db-48f4-a569-a5c3d5e54490",
   "metadata": {
    "editable": true,
    "slideshow": {
     "slide_type": ""
    },
    "tags": []
   },
   "outputs": [
    {
     "name": "stdout",
     "output_type": "stream",
     "text": [
      "   name  age       city\n",
      "0  Juan   25     Madrid\n",
      "1   Ana   30  Barcelona\n"
     ]
    }
   ],
   "source": [
    "import pandas as pd\n",
    "\n",
    "# Leer el archivo JSON\n",
    "df = pd.read_json('data/json_data.json')\n",
    "print(df)"
   ]
  },
  {
   "cell_type": "markdown",
   "id": "099faa8c-6ef0-42f6-bf9d-0beb7d3608fb",
   "metadata": {},
   "source": [
    "- **path_or_buf (requerido)**: Especifica el archivo JSON o un objeto similar a un archivo (como una URL o una cadena JSON).\n",
    "\n",
    "- **orient**: Especifica el formato esperado del JSON. Si no se especifica, pandas intentará inferir el formato. Las opciones son:\n",
    "    * *'split'*: Diccionario con {'index': [...], 'columns': [...], 'data': [...]}.\n",
    "    * *'records'*: Lista de diccionarios (cada diccionario es una fila).\n",
    "    * *'index'*: Diccionario con claves como índices y valores como filas.\n",
    "    * *'columns'*: Diccionario con claves como columnas y valores como filas.\n",
    "    * *'values'*: Lista simple de valores sin etiquetas.\n",
    "\n",
    "- **typ**: Define si el resultado debe ser un DataFrame o una Serie:\n",
    "    - *'frame'* (por defecto): Devuelve un DataFrame.\n",
    "    - *'series'*: Devuelve una Serie.\n",
    "\n",
    "- **lines**: Si es True, interpreta el archivo JSON como un archivo JSON Lines (cada línea es un objeto JSON separado).\n",
    "\n",
    "- **dtype**: Si es True (por defecto), pandas intentará inferir automáticamente los tipos de datos.\n",
    "\n",
    "- **compression**: Especifica si el archivo está comprimido (por ejemplo, 'gzip', 'bz2', 'zip', 'xz').\n",
    "\n",
    "- **chunksize**: Si se especifica, devuelve el objeto en fragmentos de tamaño definido, útil para trabajar con archivos grandes."
   ]
  },
  {
   "cell_type": "markdown",
   "id": "a958d9d9-56fa-47f8-8f10-02334bf39355",
   "metadata": {},
   "source": [
    "## 2. Json Anidados\n",
    "Para leer json anidados se utiliza el metodo json_normalize."
   ]
  },
  {
   "cell_type": "code",
   "execution_count": 5,
   "id": "cbc63cb7-23d5-4a0d-951c-a1268e39883e",
   "metadata": {
    "editable": true,
    "slideshow": {
     "slide_type": ""
    },
    "tags": []
   },
   "outputs": [
    {
     "name": "stdout",
     "output_type": "stream",
     "text": [
      "   name  info.age  info.city\n",
      "0  Juan        25     Madrid\n",
      "1   Ana        30  Barcelona\n"
     ]
    }
   ],
   "source": [
    "import pandas as pd\n",
    "\n",
    "data = [\n",
    "    {\"name\": \"Juan\", \n",
    "     \"info\": {\"age\": 25, \"city\": \"Madrid\"}},\n",
    "    {\"name\": \"Ana\", \n",
    "     \"info\": {\"age\": 30, \"city\": \"Barcelona\"}}\n",
    "]\n",
    "\n",
    "df = pd.json_normalize(data)\n",
    "print(df)"
   ]
  },
  {
   "cell_type": "code",
   "execution_count": 6,
   "id": "239b281e-2632-4ab4-98a8-f28953f0f7c9",
   "metadata": {},
   "outputs": [
    {
     "name": "stdout",
     "output_type": "stream",
     "text": [
      "       name  price      store\n",
      "0  Camiseta     20     Madrid\n",
      "1  Pantalón     30     Madrid\n",
      "2  Sudadera     25  Barcelona\n",
      "3   Zapatos     50  Barcelona\n"
     ]
    }
   ],
   "source": [
    "import pandas as pd\n",
    "\n",
    "data = [\n",
    "    {\n",
    "        \"store\": \"Madrid\",\n",
    "        \"products\": [\n",
    "            {\"name\": \"Camiseta\", \"price\": 20},\n",
    "            {\"name\": \"Pantalón\", \"price\": 30}\n",
    "        ]\n",
    "    },\n",
    "    {\n",
    "        \"store\": \"Barcelona\",\n",
    "        \"products\": [\n",
    "            {\"name\": \"Sudadera\", \"price\": 25},\n",
    "            {\"name\": \"Zapatos\", \"price\": 50}\n",
    "        ]\n",
    "    }\n",
    "]\n",
    "\n",
    "df = pd.json_normalize(data, record_path='products', meta=['store'])\n",
    "print(df)"
   ]
  },
  {
   "cell_type": "code",
   "execution_count": 7,
   "id": "5e6f1833-2b62-4fe1-a0e1-9472d6493cde",
   "metadata": {},
   "outputs": [
    {
     "name": "stdout",
     "output_type": "stream",
     "text": [
      "  product_name  product_price meta_store\n",
      "0     Camiseta             20     Madrid\n",
      "1     Pantalón             30     Madrid\n",
      "2     Sudadera             25  Barcelona\n",
      "3      Zapatos             50  Barcelona\n"
     ]
    }
   ],
   "source": [
    "df = pd.json_normalize(data, record_path='products', meta=['store'], record_prefix='product_', meta_prefix='meta_')\n",
    "print(df)"
   ]
  }
 ],
 "metadata": {
  "kernelspec": {
   "display_name": "Python 3 (ipykernel)",
   "language": "python",
   "name": "python3"
  },
  "language_info": {
   "codemirror_mode": {
    "name": "ipython",
    "version": 3
   },
   "file_extension": ".py",
   "mimetype": "text/x-python",
   "name": "python",
   "nbconvert_exporter": "python",
   "pygments_lexer": "ipython3",
   "version": "3.13.3"
  }
 },
 "nbformat": 4,
 "nbformat_minor": 5
}
