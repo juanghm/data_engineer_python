{
 "cells": [
  {
   "cell_type": "markdown",
   "id": "78e5506d-7f33-4bc1-897d-fc05ce78177e",
   "metadata": {},
   "source": [
    "# 3. Files\n",
    "\n",
    "## csv\n",
    "\n",
    "### .read_csv\n",
    "- nrows: determina cuantas filas se leerán del archivo (las primeras nrows filas del archivo).\n",
    "- skiprows: determina cuantas filas se ignoraran (las primeras skiprows filas del archivo).\n",
    "- dtype: es un diccionario que establece los tipos de datos de las columnas dadas (dtype={“zipcode”: str})\n",
    "- na_values: Es un diccionario que establece que valor es un valor faltante para las columnas especificadas na_values={\"zipcode”: 0}: Establece que si aparece 0 debe manejarse como un dato faltante (isna())\n",
    "- error_bad_lines=FALSE: Para saltar las filas que no se puedan mapear.\n",
    "- warn_bad_lines=True: Para ver los mensajes de las filas saltadas."
   ]
  },
  {
   "cell_type": "code",
   "execution_count": 1,
   "id": "79c49c65-2c80-4c68-96d9-f3904b44b1a9",
   "metadata": {
    "editable": true,
    "slideshow": {
     "slide_type": ""
    },
    "tags": []
   },
   "outputs": [
    {
     "name": "stdout",
     "output_type": "stream",
     "text": [
      "   name  age       city\n",
      "0  Juan   25     Madrid\n",
      "1   Ana   30  Barcelona\n",
      "2  Luis   28   Valencia\n"
     ]
    }
   ],
   "source": [
    "import pandas as pd\n",
    "\n",
    "# Leer el archivo CSV\n",
    "df = pd.read_csv('data/csv_data.csv')\n",
    "print(df)"
   ]
  },
  {
   "cell_type": "markdown",
   "id": "d8ed8f50-6ad7-4add-8cd5-27f1ef6caf58",
   "metadata": {},
   "source": [
    "### .to_csv()\n",
    "- header: Incluir la fila de encabezados o no, default = True\n",
    "- index: Incluir la columna de indices, default = False\n",
    "- sep: Establece el separador de columnas, por defecto es la coma."
   ]
  },
  {
   "cell_type": "code",
   "id": "7674a9cb-34e5-4d19-a29d-1b81b2d48cc9",
   "metadata": {
    "ExecuteTime": {
     "end_time": "2025-04-24T23:27:25.873009Z",
     "start_time": "2025-04-24T23:27:25.107319Z"
    }
   },
   "source": [
    "import pandas as pd\n",
    "\n",
    "filename = 'filename.csv'\n",
    "df.to_csv('filename', header = True)\n",
    "\n",
    "print(file_exist = os.path.exists('filename')) #Para verificar si quedo guardado el archivo."
   ],
   "outputs": [
    {
     "ename": "NameError",
     "evalue": "name 'df' is not defined",
     "output_type": "error",
     "traceback": [
      "\u001B[31m---------------------------------------------------------------------------\u001B[39m",
      "\u001B[31mNameError\u001B[39m                                 Traceback (most recent call last)",
      "\u001B[36mCell\u001B[39m\u001B[36m \u001B[39m\u001B[32mIn[1]\u001B[39m\u001B[32m, line 4\u001B[39m\n\u001B[32m      1\u001B[39m \u001B[38;5;28;01mimport\u001B[39;00m\u001B[38;5;250m \u001B[39m\u001B[34;01mpandas\u001B[39;00m\u001B[38;5;250m \u001B[39m\u001B[38;5;28;01mas\u001B[39;00m\u001B[38;5;250m \u001B[39m\u001B[34;01mpd\u001B[39;00m\n\u001B[32m      3\u001B[39m filename = \u001B[33m'\u001B[39m\u001B[33mfilename.csv\u001B[39m\u001B[33m'\u001B[39m\n\u001B[32m----> \u001B[39m\u001B[32m4\u001B[39m \u001B[43mdf\u001B[49m.to_csv(\u001B[33m'\u001B[39m\u001B[33mfilename\u001B[39m\u001B[33m'\u001B[39m, header = \u001B[38;5;28;01mTrue\u001B[39;00m)\n\u001B[32m      6\u001B[39m \u001B[38;5;28mprint\u001B[39m(file_exist = os.path.exists(\u001B[33m'\u001B[39m\u001B[33mfilename\u001B[39m\u001B[33m'\u001B[39m)) \u001B[38;5;66;03m#Para verificar si quedo guardado el archivo.\u001B[39;00m\n",
      "\u001B[31mNameError\u001B[39m: name 'df' is not defined"
     ]
    }
   ],
   "execution_count": 1
  },
  {
   "cell_type": "markdown",
   "id": "47aee395-c3cd-4b67-b636-34db4edc7859",
   "metadata": {},
   "source": [
    "### .read_excel()\n",
    "Metodo que permite leer un archivo de excel.\n",
    "\n",
    "- nrows: determina cuantas filas se leerán del archivo (las primeras nrows filas del archivo).\n",
    "- skiprows: determina cuantas filas se ignoraran (las primeras skiprows filas del archivo).\n",
    "- usecols: Determina que columnas leer por nombre, indice o letra (A, A:Z, C, etc.), se pasan como una cadena. usecol=“A,W,AB:BA”.\n",
    "- sheet_name: Determina el nombre o el indice de la pestaña que se leerá. Si no se especifica se toma la primera pestaña. Si se le pasa None lee todas las pestañas del archivo. Cuando se obtienen varias pestañas al mismo tiempo NO se obtiene un data frame si no un diccionario ordenado donde las llaves son los nombres de las pestañas y los values son dataframes con el contenido de cada pestaña. Para pasar varias pestañas se pasa una lista (eje. [0,’2017’])\n",
    "- dtype: es un diccionario que establece los tipos de datos de las columnas dadas (dtype={“zipcode”: str}).\n",
    "- true_values & false_values: Especifican que valores tomar como True y como False.\n",
    "- parse_dates: Establece un listado de columnas a pasear como fechas. Si la fecha no puede ser reconocida automáticamente por pandas se lee como str."
   ]
  },
  {
   "cell_type": "code",
   "execution_count": null,
   "id": "2be25919-cb22-456a-9b43-492387552c4e",
   "metadata": {},
   "outputs": [],
   "source": [
    "import pandas as pd\n",
    "\n",
    "data = read_excel(\n",
    "    'filename.xlsx',\n",
    "    dtype={'column_1': bool,\n",
    "        'column_2': bool\n",
    "    },\n",
    "    true_values=[\"Yes\"],\n",
    "    false_values=[\"No\"],\n",
    ")\n",
    "\n",
    "print(data.sheet_names) #Muestra los nombres de las sheets del excel.\n",
    "df1 = data.parse('sheet_name') #Nombre de la pestaña.\n",
    "df2 = data.parse(1, usecols={0}, skiprows={0}, names={'Country'}) #Indice de la pestaña."
   ]
  }
 ],
 "metadata": {
  "kernelspec": {
   "display_name": "Python 3 (ipykernel)",
   "language": "python",
   "name": "python3"
  },
  "language_info": {
   "codemirror_mode": {
    "name": "ipython",
    "version": 3
   },
   "file_extension": ".py",
   "mimetype": "text/x-python",
   "name": "python",
   "nbconvert_exporter": "python",
   "pygments_lexer": "ipython3",
   "version": "3.13.3"
  }
 },
 "nbformat": 4,
 "nbformat_minor": 5
}
