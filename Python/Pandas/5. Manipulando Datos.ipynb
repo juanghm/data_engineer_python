{
 "cells": [
  {
   "cell_type": "markdown",
   "id": "e7d72ac1-a344-40d1-af9e-5166a9c2e6fc",
   "metadata": {},
   "source": [
    "# 5. Manipulando Datos\n",
    "\n",
    "## Valores Faltantes\n",
    "\n",
    "### .filna()\n",
    "Permite reemplazar los valores faltantes NaN en un dataframe\n",
    "\n",
    "```python\n",
    "DataFrame.fillna(value=None, method=None, axis=None, inplace=False, limit=None, downcast=None)\n",
    "```\n",
    "- **value**: Especifica el valor o un diccionario de valores con los que deseas reemplazar los NaN.\n",
    "Puede ser un valor escalar (por ejemplo, un número o una cadena) o un diccionario/mapa para asignar valores específicos a cada columna.\n",
    "- **inplace**: Si es True, modifica el objeto original en lugar de devolver uno nuevo.\n",
    "Por defecto es False."
   ]
  },
  {
   "cell_type": "code",
   "id": "bb00d2fb-7f37-499d-b99b-34b7907f0ecb",
   "metadata": {},
   "source": [
    "import pandas as pd\n",
    "import numpy as np\n",
    "\n",
    "data = {\n",
    "    'A': [1, 2, np.nan, 4],\n",
    "    'B': [np.nan, 2, 3, np.nan],\n",
    "    'C': [1, np.nan, np.nan, 4]\n",
    "}\n",
    "\n",
    "df = pd.DataFrame(data)\n",
    "print(df)\n",
    "\n",
    "#Reemplazar valores NaN con 0.\n",
    "df_filled = df.fillna(0)\n",
    "print(df_filled)\n",
    "\n",
    "#Reemplazar valores NaN en A con 0, en B con 99 y en C con -1\n",
    "df_filled = df.fillna({'A': 0, 'B': 99, 'C': -1})\n",
    "print(df_filled)"
   ],
   "outputs": [],
   "execution_count": null
  },
  {
   "metadata": {},
   "cell_type": "markdown",
   "source": [
    "## dropna()\n",
    "El método `.dropna()` en pandas se utiliza para eliminar filas o columnas que contienen valores faltantes (`NaN`) en un DataFrame o Serie.\n",
    "\n",
    "**Parámetros principales:**\n",
    "- `axis`: Determina si se eliminan filas (`0`, por defecto) o columnas (`1`).\n",
    "- `how`:\n",
    "  - `'any'` (por defecto): Elimina la fila/columna si al menos un valor es `NaN`.\n",
    "  - `'all'`: Elimina solo si todos los valores son `NaN`.\n",
    "- `subset`: Especifica columnas para considerar al buscar `NaN`.\n",
    "- `inplace`: Si es `True`, modifica el objeto original."
   ],
   "id": "fd0201c1655d47b0"
  },
  {
   "metadata": {},
   "cell_type": "markdown",
   "source": [
    "## Eliminando Duplicados\n",
    "Se puede utilizar la función `drop_duplicates()` para remover filas duplicadas en dataframes o series.\n",
    "\n",
    "- **subset**: Especifica las columnas a considerar para identificar duplicados. Por defecto, se consideran todas las columnas.\n",
    "- **keep**: Determina qué duplicados conservar:\n",
    "    - 'first' (por defecto): Conserva la primera ocurrencia.\n",
    "    - 'last': Conserva la última ocurrencia.\n",
    "    - False: Elimina todas las filas duplicadas.\n",
    "- **inplace**: Si es True, modifica el DataFrame original. Por defecto es False.\n",
    "- **ignore_index**: Si es True, reinicia el índice del DataFrame resultante. Por defecto es False."
   ],
   "id": "e321e1ec86f4159e"
  },
  {
   "metadata": {},
   "cell_type": "code",
   "outputs": [],
   "execution_count": null,
   "source": [
    "import pandas as pd\n",
    "import numpy as np\n",
    "\n",
    "df = pd.DataFrame({\n",
    "    'A': [1, np.nan, 3],\n",
    "    'B': [4, 5, np.nan]\n",
    "})\n",
    "\n",
    "# Elimina filas con al menos un NaN\n",
    "df_sin_nan = df.dropna()\n",
    "print(df_sin_nan)\n",
    "\n",
    "# Elimina columnas con al menos un NaN\n",
    "df_sin_nan_col = df.dropna(axis=1)\n",
    "print(df_sin_nan_col)"
   ],
   "id": "33b3413e5c784920"
  },
  {
   "metadata": {},
   "cell_type": "code",
   "source": [
    "import pandas as pd\n",
    "\n",
    "# DataFrame de ejemplo.\n",
    "data = {\n",
    "    'Name': ['Alice', 'Bob', 'Alice', 'Charlie', 'Bob'],\n",
    "    'Age': [25, 30, 25, 35, 30],\n",
    "    'City': ['NY', 'LA', 'NY', 'SF', 'LA']\n",
    "}\n",
    "df = pd.DataFrame(data)\n",
    "\n",
    "# Eliminar duplicados. Teniendo en cuenta toda la fila.\n",
    "df_no_duplicates = df.drop_duplicates()\n",
    "\n",
    "# Eliminar duplicados teniendo en cuenta la columna 'Name', manteniendo la ultima ocurrencia.\n",
    "df_no_duplicates_name = df.drop_duplicates(subset='Name', keep='last')\n",
    "\n",
    "print(df_no_duplicates)\n",
    "print(df_no_duplicates_name)"
   ],
   "id": "b461dd71110523c8",
   "outputs": [],
   "execution_count": null
  },
  {
   "metadata": {},
   "cell_type": "markdown",
   "source": [
    "## .value_counts()\n",
    "Se utiliza para contar la cantidad de ocurrencias únicas de los valores en una Serie o columna de un DataFrame.\n",
    "- **Ordenado**: Los resultados se ordenan de mayor a menor frecuencia por defecto.\n",
    "- **normalize**: Si se establece en True, devuelve las proporciones en lugar de los conteos absolutos.\n",
    "- **sort**: Si es False, no ordena los resultados.\n",
    "- **ascending**: Si es True, ordena de menor a mayor frecuencia.\n",
    "- **dropna**: Si es False, incluye los valores NaN en el conteo."
   ],
   "id": "e717f264eb201fec"
  },
  {
   "metadata": {},
   "cell_type": "code",
   "source": [
    "import pandas as pd\n",
    "\n",
    "# Crear una Serie de ejemplo\n",
    "data = pd.Series(['manzana', 'pera', 'manzana', 'naranja', 'pera', 'manzana'])\n",
    "\n",
    "# Contar las ocurrencias de cada valor\n",
    "conteo = data.value_counts()\n",
    "\n",
    "# Contar las ocurrencias como proporciones\n",
    "proporciones = data.value_counts(normalize=True)\n",
    "\n",
    "print(conteo)\n",
    "print(proporciones)"
   ],
   "id": "322c329b8b69cf36",
   "outputs": [],
   "execution_count": null
  },
  {
   "cell_type": "markdown",
   "id": "10430c63-144b-494e-9242-88e6087ec901",
   "metadata": {},
   "source": [
    "### .groupby()\n",
    "Funciona similar al group by de SQL pero en un dataframe. Se puede agrupar por uno o varias columnas y aplicar funciones.\n",
    "```python\n",
    "DataFrame.groupby(by=None, axis=0, level=None, as_index=True, sort=True, group_keys=True, observed=False, dropna=True)\n",
    "```\n",
    "- **by**: Especifica las claves para agrupar los datos. Puede ser:\n",
    "    - Una columna o lista de columnas.\n",
    "    - Una función que se aplique al índice o a las columnas.\n",
    "    - Un diccionario o Serie para mapear valores.\n",
    "- **axis**: Determina si agrupar por filas (axis=0, por defecto) o columnas (axis=1)."
   ]
  },
  {
   "cell_type": "code",
   "id": "ce41b5b7-57ca-4da9-99e4-9aad1321da49",
   "metadata": {
    "ExecuteTime": {
     "end_time": "2025-05-13T00:12:32.084363Z",
     "start_time": "2025-05-13T00:12:32.076176Z"
    }
   },
   "source": [
    "import pandas as pd\n",
    "\n",
    "data = {\n",
    "    'Producto': ['Camisa', 'Camisa', 'Pantalón', 'Pantalón', 'Zapatos'],\n",
    "    'Tienda': ['A', 'B', 'A', 'B', 'A'],\n",
    "    'Ventas': [100, 200, 150, 250, 300]\n",
    "}\n",
    "\n",
    "df = pd.DataFrame(data)\n",
    "print(df)\n",
    "\n",
    "# Suma de las ventas agrupadas por producto.\n",
    "sum_producto = df.groupby('Producto')['Ventas'].sum()\n",
    "print(sum_producto)\n",
    "\n",
    "# Promedio de ventas por producto.\n",
    "mean_producto = df.groupby('Producto')['Ventas'].mean()\n",
    "print(mean_producto)\n",
    "\n",
    "# Tambien se pueden calcular al tiempo.\n",
    "some_sts = df.groupby('Producto')['Ventas'].agg(['min', 'max', 'sum'])\n",
    "print(some_sts)"
   ],
   "outputs": [
    {
     "name": "stdout",
     "output_type": "stream",
     "text": [
      "   Producto Tienda  Ventas\n",
      "0    Camisa      A     100\n",
      "1    Camisa      B     200\n",
      "2  Pantalón      A     150\n",
      "3  Pantalón      B     250\n",
      "4   Zapatos      A     300\n",
      "Producto\n",
      "Camisa      300\n",
      "Pantalón    400\n",
      "Zapatos     300\n",
      "Name: Ventas, dtype: int64\n",
      "Producto\n",
      "Camisa      150.0\n",
      "Pantalón    200.0\n",
      "Zapatos     300.0\n",
      "Name: Ventas, dtype: float64\n",
      "          min  max  sum\n",
      "Producto               \n",
      "Camisa    100  200  300\n",
      "Pantalón  150  250  400\n",
      "Zapatos   300  300  300\n"
     ]
    }
   ],
   "execution_count": 5
  },
  {
   "cell_type": "markdown",
   "id": "4dd98786-7b27-45fe-983b-127028d1ac92",
   "metadata": {},
   "source": [
    "### .apply()\n",
    "Permite aplicar una función a lo largo de las filas o columnas de un DataFrame, se debe especificar si se aplica por columnas (0) o por filas (1). Es mucho mas eficiente que hacerlo en un loop pero no mas eficiente que una funcion vectorizada de numpy o pandas.\n",
    "\n"
   ]
  },
  {
   "cell_type": "code",
   "id": "e7d091c7-6c05-466b-ad0e-2e3dc21499dd",
   "metadata": {},
   "source": [
    "import pandas as pd\n",
    "\n",
    "# Crear un DataFrame de ejemplo\n",
    "df = pd.DataFrame({\n",
    "    'A': [1, 2, 3],\n",
    "    'B': [4, 5, 6],\n",
    "    'C': [7, 8, 9]\n",
    "})\n",
    "\n",
    "# Aplicar una función a cada columna\n",
    "result = df.apply(max, axis=0)\n",
    "\n",
    "print(result)\n",
    "\n",
    "# Salida\n",
    "# A    3\n",
    "# B    6\n",
    "# C    9"
   ],
   "outputs": [],
   "execution_count": null
  },
  {
   "metadata": {},
   "cell_type": "markdown",
   "source": [
    "## Pivot Table\n",
    "Se utiliza para resumir y reorganizar datos en un DataFrame, similar a las tablas dinámicas en Excel. Permite agrupar datos, aplicar funciones de agregación y reorganizar columnas y filas.\n",
    "\n",
    "```python\n",
    "DataFrame.pivot_table(values=None, index=None, columns=None, aggfunc='mean', fill_value=None, margins=False, margins_name='All', dropna=True)\n",
    "```\n",
    "- **values**: Especifica las columnas cuyos valores se quieren agregar. Si no se especifica, se usan todas las columnas numéricas.\n",
    "- **index**: Las columnas que se usarán como filas en la tabla pivote.\n",
    "- **columns**: Las columnas que se usarán como encabezados de las columnas en la tabla pivote.\n",
    "- **aggfunc**: La función de agregación que se aplicará (por defecto es 'mean'). Ejemplos: 'sum', 'count', 'min', 'max'.\n",
    "- **fill_value**: Valor con el que se llenarán los datos faltantes (NaN).\n",
    "- **margins**: Si es True, agrega filas y columnas con totales.\n",
    "- **margins_name**: Nombre de las filas/columnas de totales (por defecto 'All')."
   ],
   "id": "6a678e66d8d643f2"
  },
  {
   "metadata": {
    "ExecuteTime": {
     "end_time": "2025-05-09T00:51:04.291325Z",
     "start_time": "2025-05-09T00:51:04.279358Z"
    }
   },
   "cell_type": "code",
   "source": [
    "import pandas as pd\n",
    "\n",
    "# Crear un DataFrame de ejemplo\n",
    "data = {\n",
    "    'Producto': ['Camisa', 'Camisa', 'Pantalón', 'Pantalón', 'Zapatos'],\n",
    "    'Tienda': ['A', 'B', 'A', 'B', 'A'],\n",
    "    'Ventas': [100, 200, 150, 250, 300]\n",
    "}\n",
    "\n",
    "df = pd.DataFrame(data)\n",
    "\n",
    "# Crear una tabla pivote\n",
    "pivot = df.pivot_table(values='Ventas', index='Producto', columns='Tienda', aggfunc='sum', fill_value=0)\n",
    "\n",
    "print(pivot)"
   ],
   "id": "44a66829eee57a34",
   "outputs": [
    {
     "name": "stdout",
     "output_type": "stream",
     "text": [
      "Tienda      A    B\n",
      "Producto          \n",
      "Camisa    100  200\n",
      "Pantalón  150  250\n",
      "Zapatos   300    0\n"
     ]
    }
   ],
   "execution_count": 4
  }
 ],
 "metadata": {
  "kernelspec": {
   "display_name": "Python 3 (ipykernel)",
   "language": "python",
   "name": "python3"
  },
  "language_info": {
   "codemirror_mode": {
    "name": "ipython",
    "version": 3
   },
   "file_extension": ".py",
   "mimetype": "text/x-python",
   "name": "python",
   "nbconvert_exporter": "python",
   "pygments_lexer": "ipython3",
   "version": "3.13.3"
  }
 },
 "nbformat": 4,
 "nbformat_minor": 5
}
