{
 "cells": [
  {
   "metadata": {},
   "cell_type": "markdown",
   "source": [
    "# Uniendo Datos\n",
    "\n",
    "## .concat()\n",
    "\n",
    "se utiliza para unir (concatenar) varios DataFrames o Series, ya sea de forma vertical (uno debajo del otro) o horizontal (uno al lado del otro).\n",
    "- **axis=0 (por defecto)**: concatena filas (verticalmente).\n",
    "- **axis=1**: concatena columnas (horizontalmente).\n",
    "- **ignore_index=True**: reinicia el índice en el DataFrame resultante.\n",
    "- **join**: Controla qué columnas o índices se incluyen al unir varios DataFrames:\n",
    "    - **join='outer' (por defecto)**: Incluye todas las columnas o índices de todos los DataFrames. Si alguna columna no existe en algún DataFrame, se rellena con NaN.\n",
    "    - **join='inner'**: Solo incluye las columnas o índices que están presentes en todos los DataFrames (la intersección).\n",
    "- **verify_integrity**: Sirve para comprobar si el índice del DataFrame resultante tiene valores duplicados después de la concatenación. Si se establece en True y hay duplicados en el índice, se lanzará un error:\n",
    "    - **verify_integrity=False (por defecto)**: No verifica si hay duplicados en el índice.\n",
    "    - **verify_integrity=True**: Lanza un error si el índice resultante tiene duplicados."
   ],
   "id": "56b8b94658aef893"
  },
  {
   "metadata": {},
   "cell_type": "code",
   "source": [
    "import pandas as pd\n",
    "\n",
    "# Crear DataFrames de ejemplo\n",
    "df1 = pd.DataFrame({'A': [1, 2], 'B': [3, 4]})\n",
    "df2 = pd.DataFrame({'A': [5, 6], 'B': [7, 8]})\n",
    "\n",
    "# Concatenar verticalmente, axis=0\n",
    "result = pd.concat([df1, df2])\n",
    "print(result)\n",
    "\n",
    "# Concatenar horizontalmente, axis=1\n",
    "result = pd.concat([df1, df2], axis=1)\n",
    "print(result)"
   ],
   "id": "c0e9eaa35e22f85e",
   "outputs": [],
   "execution_count": null
  },
  {
   "metadata": {},
   "cell_type": "markdown",
   "source": [
    "## .merge()\n",
    "Para hacer el merge de dos DataFrames. Similar al inner join de sql. Por defecto retorna solo las filas que hacen match\n",
    "\n",
    "- **on**: Define el campo o column por la que se hace el match, si las columnas se llaman igual en ambos datasets.\n",
    "- **suffixes**: Define los sufijos para las columnas que se repiten en ambos DataFrames.\n",
    "- **left_on & right_on**: Se usan cuando las columnas a unir tienen nombres diferentes en cada DataFrame.\n",
    "\n",
    "El parámetro how en la función .merge() de pandas define el tipo de unión que se realiza entre los DataFrames, similar a los joins en SQL:\n",
    "\n",
    "- **how='inner'**: Solo incluye las filas con claves que existen en ambos DataFrames (por defecto).\n",
    "- **how='left'**: Incluye todas las filas del DataFrame izquierdo y los datos coincidentes del derecho. Si no hay coincidencia, rellena con NaN.\n",
    "- **how='right'**: Incluye todas las filas del DataFrame derecho y los datos coincidentes del izquierdo.\n",
    "- **how='outer'**: Incluye todas las filas de ambos DataFrames, rellenando con NaN donde no haya coincidencia.\n",
    "\n",
    "El argumento validate en .merge() de pandas sirve para verificar el tipo de relación entre las claves de los DataFrames que se están uniendo. Permite asegurarse de que la combinación cumple ciertas condiciones, y si no, lanza un error:\n",
    "\n",
    "- **validate='one_to_one'**: Cada clave aparece solo una vez en ambos DataFrames.\n",
    "- **validate='one_to_many'**: Cada clave aparece solo una vez en el DataFrame izquierdo, pero puede repetirse en el derecho.\n",
    "- **validate='many_to_one'**: Cada clave aparece solo una vez en el DataFrame derecho, pero puede repetirse en el izquierdo.\n",
    "- **validate='many_to_many'**: Las claves pueden repetirse en ambos DataFrames (no hay restricción).\n"
   ],
   "id": "2fd53f1fac04a5a5"
  },
  {
   "metadata": {},
   "cell_type": "code",
   "source": [
    "import pandas as pd\n",
    "\n",
    "# Crear DataFrames de ejemplo\n",
    "df1 = pd.DataFrame({\n",
    "    'id': [1, 2, 3],\n",
    "    'nombre': ['Juan', 'Ana', 'Luis'],\n",
    "    'edad': [25, 30, 22]\n",
    "})\n",
    "\n",
    "df2 = pd.DataFrame({\n",
    "    'id': [2, 3, 4],\n",
    "    'edad': [25, 30, 22]\n",
    "})\n",
    "\n",
    "result = df1.merge(df2, on='id', suffixes=('_df1', '_df2'))\n",
    "print(result)"
   ],
   "id": "5513c72af4b60a75",
   "outputs": [],
   "execution_count": null
  },
  {
   "metadata": {},
   "cell_type": "markdown",
   "source": [
    "## .merge_ordered()\n",
    "Se utiliza para combinar dos DataFrames de manera ordenada, es decir, mantiene el orden de las claves de unión. Es útil para combinar series temporales o datos que deben conservar un orden específico.\n",
    "\n",
    "- **on**: Especifica la(s) columna(s) por las que se realiza la unión.\n",
    "- **how**: Tipo de unión (`'outer'`, `'inner'`, `'left'`, `'right'`). Por defecto es `'outer'`.\n",
    "- **fill_method**: Permite rellenar valores faltantes usando métodos como:\n",
    "    - `'ffill'`: Forward fill. Propagates the last valid value forward.\n",
    "    - `'bfill'`: Backward fill. Propagates the next valid value backward.\n",
    "    - `None`: No filling (default).\n",
    "- **suffixes**: Sufijos para las columnas que se repiten."
   ],
   "id": "3ac77b3cb3293e00"
  },
  {
   "metadata": {},
   "cell_type": "code",
   "source": [
    "import pandas as pd\n",
    "\n",
    "df1 = pd.DataFrame({'fecha': ['2023-01-01', '2023-01-03'], 'valor1': [10, 30]})\n",
    "df2 = pd.DataFrame({'fecha': ['2023-01-02', '2023-01-03'], 'valor2': [20, 40]})\n",
    "\n",
    "resultado = pd.merge_ordered(df1, df2, on='fecha')\n",
    "print(resultado)"
   ],
   "id": "e5354cff7f680d65",
   "outputs": [],
   "execution_count": null
  },
  {
   "metadata": {},
   "cell_type": "markdown",
   "source": [
    "## `.merge_asof()`\n",
    "\n",
    "`.merge_asof()` se utiliza para hacer una unión aproximada entre dos DataFrames, generalmente sobre datos ordenados temporalmente. Busca la fila más cercana (anterior o igual) en el DataFrame derecho para cada fila del DataFrame izquierdo según una clave ordenada (por ejemplo, fechas o tiempos).\n",
    "\n",
    "- **on**: Columna por la que se realiza la unión (debe estar ordenada).\n",
    "- **by**: Columnas adicionales para agrupar antes de hacer la unión.\n",
    "- **direction**: Controla la dirección de la búsqueda:\n",
    "    - `'backward'` (por defecto): Busca la coincidencia más cercana hacia atrás.\n",
    "    - `'forward'`: Busca la coincidencia más cercana hacia adelante.\n",
    "    - `'nearest'`: Busca la coincidencia más cercana en cualquier dirección.\n",
    "- **tolerance**: Límite máximo de diferencia permitido para considerar una coincidencia."
   ],
   "id": "b49a413adb6e2df7"
  },
  {
   "metadata": {
    "ExecuteTime": {
     "end_time": "2025-05-15T00:06:29.416105Z",
     "start_time": "2025-05-15T00:06:29.408751Z"
    }
   },
   "cell_type": "code",
   "source": [
    "import pandas as pd\n",
    "\n",
    "izq = pd.DataFrame({'tiempo': [1, 2, 3, 4], 'valor_izq': ['a', 'b', 'c', 'd']})\n",
    "der = pd.DataFrame({'tiempo': [2, 3], 'valor_der': ['x', 'y']})\n",
    "\n",
    "resultado = pd.merge_asof(izq, der, on='tiempo')\n",
    "print(resultado)"
   ],
   "id": "7533873b4cd366c4",
   "outputs": [
    {
     "name": "stdout",
     "output_type": "stream",
     "text": [
      "   tiempo valor_izq valor_der\n",
      "0       1         a       NaN\n",
      "1       2         b         x\n",
      "2       3         c         y\n",
      "3       4         d         y\n"
     ]
    }
   ],
   "execution_count": 2
  },
  {
   "metadata": {},
   "cell_type": "markdown",
   "source": [
    "## .isin()\n",
    "Se usa para verificar si los valores de una columna (o DataFrame) están presentes en una lista, conjunto u otra Serie. Devuelve una Serie booleana del mismo tamaño, donde True indica que el valor está en la colección dada."
   ],
   "id": "d2b908a4cffdc3fd"
  },
  {
   "metadata": {},
   "cell_type": "code",
   "source": [
    "import pandas as pd\n",
    "\n",
    "df = pd.DataFrame({\n",
    "    'nombre': ['Juan', 'Ana', 'Luis', 'Maria'],\n",
    "    'edad': [25, 30, 22, 28]\n",
    "})\n",
    "\n",
    "# Verifica si 'nombre' está en la lista ['Ana', 'Luis']\n",
    "mascara = df['nombre'].isin(['Ana', 'Luis'])\n",
    "print(mascara)\n",
    "# Resultado: [False, True, True, False]\n",
    "\n",
    "# Filtra las filas donde 'nombre' es 'Ana' o 'Luis'\n",
    "filtrado = df[df['nombre'].isin(['Ana', 'Luis'])]\n",
    "print(filtrado)"
   ],
   "id": "2d1f34fd72d99638",
   "outputs": [],
   "execution_count": null
  }
 ],
 "metadata": {
  "kernelspec": {
   "display_name": "Python 3",
   "language": "python",
   "name": "python3"
  },
  "language_info": {
   "codemirror_mode": {
    "name": "ipython",
    "version": 2
   },
   "file_extension": ".py",
   "mimetype": "text/x-python",
   "name": "python",
   "nbconvert_exporter": "python",
   "pygments_lexer": "ipython2",
   "version": "2.7.6"
  }
 },
 "nbformat": 4,
 "nbformat_minor": 5
}
