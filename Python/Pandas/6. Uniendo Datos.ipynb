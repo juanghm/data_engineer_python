{
 "cells": [
  {
   "metadata": {},
   "cell_type": "markdown",
   "source": [
    "# Uniendo Datos\n",
    "\n",
    "## .concat()\n",
    "\n",
    "Si los data frames a concatenar tiene index por default se debe ignorar el index usando ignore_index = True"
   ],
   "id": "56b8b94658aef893"
  },
  {
   "metadata": {},
   "cell_type": "code",
   "outputs": [],
   "execution_count": null,
   "source": [
    "import pandas as pd\n",
    "\n",
    "# Crear DataFrames de ejemplo\n",
    "df1 = pd.DataFrame({'A': [1, 2], 'B': [3, 4]})\n",
    "df2 = pd.DataFrame({'A': [5, 6], 'B': [7, 8]})\n",
    "\n",
    "# Concatenar verticalmente, axis=0\n",
    "result = pd.concat([df1, df2])\n",
    "print(result)\n",
    "\n",
    "# Concatenar horizontalmente, axis=1\n",
    "result = pd.concat([df1, df2], axis=1)\n",
    "print(result)"
   ],
   "id": "c0e9eaa35e22f85e"
  },
  {
   "metadata": {},
   "cell_type": "markdown",
   "source": [
    "## .merge()\n",
    "Para hacer el merge de dos DataFrames. Similar al inner join de sql. Por defecto retorna solo las filas que hacen match\n",
    "\n",
    "- **on**: Define el campo o column por la que se hace el match, si las columnas se llaman igual en ambos datasets.\n",
    "- **suffixes**: Define los sufijos para las columnas que se repiten en ambos DataFrames.\n",
    "- **left_on & right_on**: Se usan cuando las columnas a unir tienen nombres diferentes en cada DataFrame.\n",
    "\n",
    "El parámetro how en la función .merge() de pandas define el tipo de unión que se realiza entre los DataFrames, similar a los joins en SQL:\n",
    "\n",
    "- **how='inner'**: Solo incluye las filas con claves que existen en ambos DataFrames (por defecto).\n",
    "- **how='left'**: Incluye todas las filas del DataFrame izquierdo y los datos coincidentes del derecho. Si no hay coincidencia, rellena con NaN.\n",
    "- **how='right'**: Incluye todas las filas del DataFrame derecho y los datos coincidentes del izquierdo.\n",
    "- **how='outer'**: Incluye todas las filas de ambos DataFrames, rellenando con NaN donde no haya coincidencia.\n"
   ],
   "id": "2fd53f1fac04a5a5"
  },
  {
   "metadata": {
    "ExecuteTime": {
     "end_time": "2025-05-12T23:55:08.981967Z",
     "start_time": "2025-05-12T23:55:08.973942Z"
    }
   },
   "cell_type": "code",
   "source": [
    "import pandas as pd\n",
    "\n",
    "# Crear DataFrames de ejemplo\n",
    "df1 = pd.DataFrame({\n",
    "    'id': [1, 2, 3],\n",
    "    'nombre': ['Juan', 'Ana', 'Luis'],\n",
    "    'edad': [25, 30, 22]\n",
    "})\n",
    "\n",
    "df2 = pd.DataFrame({\n",
    "    'id': [2, 3, 4],\n",
    "    'edad': [25, 30, 22]\n",
    "})\n",
    "\n",
    "result = df1.merge(df2, on='id', suffixes=('_df1', '_df2'))\n",
    "print(result)"
   ],
   "id": "5513c72af4b60a75",
   "outputs": [
    {
     "name": "stdout",
     "output_type": "stream",
     "text": [
      "   id nombre  edad_df1  edad_df2\n",
      "0   2    Ana        30        25\n",
      "1   3   Luis        22        30\n"
     ]
    }
   ],
   "execution_count": 2
  },
  {
   "metadata": {},
   "cell_type": "code",
   "outputs": [],
   "execution_count": null,
   "source": "",
   "id": "ba2dc71879f36c46"
  }
 ],
 "metadata": {
  "kernelspec": {
   "display_name": "Python 3",
   "language": "python",
   "name": "python3"
  },
  "language_info": {
   "codemirror_mode": {
    "name": "ipython",
    "version": 2
   },
   "file_extension": ".py",
   "mimetype": "text/x-python",
   "name": "python",
   "nbconvert_exporter": "python",
   "pygments_lexer": "ipython2",
   "version": "2.7.6"
  }
 },
 "nbformat": 4,
 "nbformat_minor": 5
}
