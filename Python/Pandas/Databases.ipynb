{
 "cells": [
  {
   "cell_type": "markdown",
   "id": "741e0afc-dc06-4318-a404-347b53b29ffa",
   "metadata": {},
   "source": [
    "# Databases\n",
    "Usando pandas se debe crear primero el engine y luego se puede usar para ejecutar consultas.\n",
    "\n",
    "## .read_sql_query()"
   ]
  },
  {
   "cell_type": "code",
   "execution_count": null,
   "id": "e216246a-9737-41d0-af16-5fd590622c23",
   "metadata": {},
   "outputs": [],
   "source": [
    "from sqlalchemy import create_engine\n",
    "import pandas as pd\n",
    "\n",
    "engine = create_engine('sqlite:///Chinook.sqlite')\n",
    "\n",
    "df = pd.read_sql_query(\"SELECT * FROM Orders\", engine)\n",
    "\n",
    "df = pd.read_sql_query('Orders', engine) #Carga toda la tabla Orders sin usar sql."
   ]
  },
  {
   "cell_type": "markdown",
   "id": "27bd757a-f14b-44a0-bacc-786c1be19b9b",
   "metadata": {},
   "source": [
    "## .to_sql()\n",
    "Permite almacenar un dataframe en una tabla de una base de datos.\n",
    "```python\n",
    "DataFrame.to_sql(name, con, schema=None, if_exists='fail', index=True, index_label=None, chunksize=None, dtype=None, method=None)\n",
    "```\n",
    "- **name (requerido)**: El nombre de la tabla donde se guardarán los datos.\n",
    "- **con (requerido)**: La conexión a la base de datos. Puede ser un objeto de conexión compatible con DB-API o un motor de SQLAlchemy.\n",
    "- **if_exists**: Controla qué hacer si la tabla ya existe:\n",
    "    - 'fail' (por defecto): Lanza un error.\n",
    "    - 'replace': Borra la tabla existente y la reemplaza.\n",
    "    - 'append': Añade los datos a la tabla existente.\n",
    "- **index**: Si es True (por defecto), incluye el índice del DataFrame como una columna en la tabla SQL. Si es False, no se guarda el índice.\n",
    "- **index_label**: Especifica el nombre de la columna del índice en la tabla SQL. Solo se usa si index=True."
   ]
  },
  {
   "cell_type": "code",
   "execution_count": 1,
   "id": "a257d2a5-51ac-4c29-877e-02685a8ba023",
   "metadata": {},
   "outputs": [
    {
     "name": "stdout",
     "output_type": "stream",
     "text": [
      "   name  age       city\n",
      "0  Juan   25     Madrid\n",
      "1   Ana   30  Barcelona\n",
      "2  Luis   28   Valencia\n"
     ]
    }
   ],
   "source": [
    "import pandas as pd\n",
    "import sqlite3\n",
    "\n",
    "# Crear un DataFrame de ejemplo\n",
    "data = {\n",
    "    'name': ['Juan', 'Ana', 'Luis'],\n",
    "    'age': [25, 30, 28],\n",
    "    'city': ['Madrid', 'Barcelona', 'Valencia']\n",
    "}\n",
    "df = pd.DataFrame(data)\n",
    "\n",
    "# Crear una conexión a SQLite\n",
    "con = sqlite3.connect('data/example.db')\n",
    "\n",
    "# Guardar el DataFrame en una tabla llamada \"people\"\n",
    "df.to_sql('people', con, if_exists='replace', index=False)\n",
    "\n",
    "# Verificar los datos guardados\n",
    "result = pd.read_sql('SELECT * FROM people', con)\n",
    "print(result)\n",
    "\n",
    "# Cerrar la conexión\n",
    "con.close()"
   ]
  }
 ],
 "metadata": {
  "kernelspec": {
   "display_name": "Python 3 (ipykernel)",
   "language": "python",
   "name": "python3"
  },
  "language_info": {
   "codemirror_mode": {
    "name": "ipython",
    "version": 3
   },
   "file_extension": ".py",
   "mimetype": "text/x-python",
   "name": "python",
   "nbconvert_exporter": "python",
   "pygments_lexer": "ipython3",
   "version": "3.13.3"
  }
 },
 "nbformat": 4,
 "nbformat_minor": 5
}
