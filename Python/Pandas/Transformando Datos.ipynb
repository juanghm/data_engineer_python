{
 "cells": [
  {
   "cell_type": "markdown",
   "id": "e7d72ac1-a344-40d1-af9e-5166a9c2e6fc",
   "metadata": {},
   "source": [
    "# Transformando Datos\n",
    "\n",
    "## Valores Faltantes\n",
    "\n",
    "### .filna()\n",
    "Permite reemplazar los valores faltantes NaN en un dataframe\n",
    "\n",
    "```python\n",
    "DataFrame.fillna(value=None, method=None, axis=None, inplace=False, limit=None, downcast=None)\n",
    "```\n",
    "- **value**: Especifica el valor o un diccionario de valores con los que deseas reemplazar los NaN.\n",
    "Puede ser un valor escalar (por ejemplo, un número o una cadena) o un diccionario/mapa para asignar valores específicos a cada columna.\n",
    "- **inplace**: Si es True, modifica el objeto original en lugar de devolver uno nuevo.\n",
    "Por defecto es False."
   ]
  },
  {
   "cell_type": "code",
   "execution_count": 2,
   "id": "bb00d2fb-7f37-499d-b99b-34b7907f0ecb",
   "metadata": {},
   "outputs": [
    {
     "name": "stdout",
     "output_type": "stream",
     "text": [
      "     A    B    C\n",
      "0  1.0  NaN  1.0\n",
      "1  2.0  2.0  NaN\n",
      "2  NaN  3.0  NaN\n",
      "3  4.0  NaN  4.0\n",
      "     A    B    C\n",
      "0  1.0  0.0  1.0\n",
      "1  2.0  2.0  0.0\n",
      "2  0.0  3.0  0.0\n",
      "3  4.0  0.0  4.0\n",
      "     A     B    C\n",
      "0  1.0  99.0  1.0\n",
      "1  2.0   2.0 -1.0\n",
      "2  0.0   3.0 -1.0\n",
      "3  4.0  99.0  4.0\n"
     ]
    }
   ],
   "source": [
    "import pandas as pd\n",
    "import numpy as np\n",
    "\n",
    "data = {\n",
    "    'A': [1, 2, np.nan, 4],\n",
    "    'B': [np.nan, 2, 3, np.nan],\n",
    "    'C': [1, np.nan, np.nan, 4]\n",
    "}\n",
    "\n",
    "df = pd.DataFrame(data)\n",
    "print(df)\n",
    "\n",
    "#Reemplazar valores NaN con 0.\n",
    "df_filled = df.fillna(0)\n",
    "print(df_filled)\n",
    "\n",
    "#Reemplazar valores NaN en A con 0, en B con 99 y en C con -1\n",
    "df_filled = df.fillna({'A': 0, 'B': 99, 'C': -1})\n",
    "print(df_filled)"
   ]
  },
  {
   "cell_type": "markdown",
   "id": "10430c63-144b-494e-9242-88e6087ec901",
   "metadata": {},
   "source": [
    "### .groupby()\n",
    "Funciona similar al group by de SQL pero en un dataframe.\n",
    "```python\n",
    "DataFrame.groupby(by=None, axis=0, level=None, as_index=True, sort=True, group_keys=True, observed=False, dropna=True)\n",
    "```\n",
    "- **by**: Especifica las claves para agrupar los datos. Puede ser:\n",
    "    - Una columna o lista de columnas.\n",
    "    - Una función que se aplique al índice o a las columnas.\n",
    "    - Un diccionario o Serie para mapear valores.\n",
    "- **axis**: Determina si agrupar por filas (axis=0, por defecto) o columnas (axis=1)."
   ]
  },
  {
   "cell_type": "code",
   "execution_count": 6,
   "id": "ce41b5b7-57ca-4da9-99e4-9aad1321da49",
   "metadata": {},
   "outputs": [
    {
     "name": "stdout",
     "output_type": "stream",
     "text": [
      "   Producto Tienda  Ventas\n",
      "0    Camisa      A     100\n",
      "1    Camisa      B     200\n",
      "2  Pantalón      A     150\n",
      "3  Pantalón      B     250\n",
      "4   Zapatos      A     300\n",
      "Producto\n",
      "Camisa      300\n",
      "Pantalón    400\n",
      "Zapatos     300\n",
      "Name: Ventas, dtype: int64\n"
     ]
    }
   ],
   "source": [
    "import pandas as pd\n",
    "\n",
    "data = {\n",
    "    'Producto': ['Camisa', 'Camisa', 'Pantalón', 'Pantalón', 'Zapatos'],\n",
    "    'Tienda': ['A', 'B', 'A', 'B', 'A'],\n",
    "    'Ventas': [100, 200, 150, 250, 300]\n",
    "}\n",
    "\n",
    "df = pd.DataFrame(data)\n",
    "print(df)\n",
    "\n",
    "#Agrupa por la columna 'Producto' y halla la suma agregada de las demas columnas.\n",
    "grouped = df.groupby('Producto')['Ventas'].sum()\n",
    "print(grouped)"
   ]
  },
  {
   "cell_type": "markdown",
   "id": "4dd98786-7b27-45fe-983b-127028d1ac92",
   "metadata": {},
   "source": [
    "### .apply()\n",
    "Permite aplicar una función a lo largo de las filas o columnas de un DataFrame, se debe especificar si se aplica por columnas (0) o por filas (1). Es mucho mas eficiente que hacerlo en un loop pero no mas eficiente que una funcion vectorizada de numpy o pandas.\n",
    "\n"
   ]
  },
  {
   "cell_type": "code",
   "execution_count": 7,
   "id": "e7d091c7-6c05-466b-ad0e-2e3dc21499dd",
   "metadata": {},
   "outputs": [
    {
     "name": "stdout",
     "output_type": "stream",
     "text": [
      "A    3\n",
      "B    6\n",
      "C    9\n",
      "dtype: int64\n"
     ]
    }
   ],
   "source": [
    "import pandas as pd\n",
    "\n",
    "# Crear un DataFrame de ejemplo\n",
    "df = pd.DataFrame({\n",
    "    'A': [1, 2, 3],\n",
    "    'B': [4, 5, 6],\n",
    "    'C': [7, 8, 9]\n",
    "})\n",
    "\n",
    "# Aplicar una función a cada columna\n",
    "result = df.apply(max, axis=0)\n",
    "\n",
    "print(result)\n",
    "\n",
    "# Salida\n",
    "# A    3\n",
    "# B    6\n",
    "# C    9"
   ]
  }
 ],
 "metadata": {
  "kernelspec": {
   "display_name": "Python 3 (ipykernel)",
   "language": "python",
   "name": "python3"
  },
  "language_info": {
   "codemirror_mode": {
    "name": "ipython",
    "version": 3
   },
   "file_extension": ".py",
   "mimetype": "text/x-python",
   "name": "python",
   "nbconvert_exporter": "python",
   "pygments_lexer": "ipython3",
   "version": "3.13.3"
  }
 },
 "nbformat": 4,
 "nbformat_minor": 5
}
