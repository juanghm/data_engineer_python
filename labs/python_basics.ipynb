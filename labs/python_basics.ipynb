{
 "cells": [
  {
   "cell_type": "markdown",
   "id": "a4810752",
   "metadata": {},
   "source": [
    "# Ejercicios\n",
    "\n",
    "## Ejercicio 1\n",
    "Escribir un programa que pregunte el nombre del usuario en la consola y después de que el usuario lo introduzca muestre por pantalla la cadena ¡Hola <nombre>!, donde <nombre> es el nombre que el usuario haya introducido."
   ]
  },
  {
   "cell_type": "code",
   "execution_count": 2,
   "id": "d6a782f9",
   "metadata": {},
   "outputs": [
    {
     "name": "stdout",
     "output_type": "stream",
     "text": [
      "Hello Jua\n"
     ]
    }
   ],
   "source": [
    "user_name = input(\"Enter your name: \")\n",
    "\n",
    "print(f'Hello {user_name}')"
   ]
  },
  {
   "cell_type": "markdown",
   "id": "2d0df201",
   "metadata": {},
   "source": [
    "## Ejercicio 2\n",
    "Escribir un programa que muestre por pantalla el resultado de la siguiente operación aritmética (3+2/2*5)2."
   ]
  },
  {
   "cell_type": "code",
   "execution_count": 3,
   "id": "543d0340",
   "metadata": {},
   "outputs": [
    {
     "name": "stdout",
     "output_type": "stream",
     "text": [
      "0.25\n"
     ]
    }
   ],
   "source": [
    "print(((3+2)/(2*5))**2)"
   ]
  },
  {
   "cell_type": "markdown",
   "id": "fac1773e",
   "metadata": {},
   "source": [
    "## Ejercicio 3\n",
    "Escribir un programa que lea un entero positivo, n, introducido por el usuario y después muestre en pantalla la suma de todos los enteros desde 1 hasta n. La suma de los  primeros enteros positivos puede ser calculada de la siguiente forma: *suma = n(n+1)/2*"
   ]
  },
  {
   "cell_type": "code",
   "execution_count": 5,
   "id": "d50bd58f",
   "metadata": {},
   "outputs": [
    {
     "name": "stdout",
     "output_type": "stream",
     "text": [
      "The sum of the first n numbers are: 10.0\n"
     ]
    }
   ],
   "source": [
    "n = input(\"Enter a number: \")\n",
    "\n",
    "if n.isdigit():\n",
    "    number = int(n)\n",
    "    sum = number*(number+1)/2\n",
    "    print(f'The sum of the first n numbers are: {sum}')"
   ]
  },
  {
   "cell_type": "markdown",
   "id": "184332fc",
   "metadata": {},
   "source": [
    "## Ejercicio 4\n",
    "Escribir un programa que pida al usuario dos números enteros y muestre por pantalla la < n > entre < m > da un cociente < c > y un resto < r > donde < n > y < m > son los números introducidos por el usuario, y < c > y < r > son el cociente y el resto de la división entera respectivamente."
   ]
  },
  {
   "cell_type": "code",
   "execution_count": 9,
   "id": "9b2139c3",
   "metadata": {},
   "outputs": [
    {
     "name": "stdout",
     "output_type": "stream",
     "text": [
      "El cociente de la division es: 2\n",
      "El residuo de la division es: 1\n"
     ]
    }
   ],
   "source": [
    "n = int(input(\"Ingrese in dividendo: \"))\n",
    "m = int(input(\"Ingrese el divisor: \"))\n",
    "\n",
    "c = n // m\n",
    "print(f'El cociente de la division es: {c}')\n",
    "\n",
    "r = n % m\n",
    "print(f'El residuo de la division es: {r}')"
   ]
  },
  {
   "cell_type": "markdown",
   "id": "da9ea69c",
   "metadata": {},
   "source": [
    "## Ejercicio 5\n",
    "Escribir un programa que pregunte el nombre del usuario en la consola y un número entero e imprima por pantalla en líneas distintas el nombre del usuario tantas veces como el número introducido."
   ]
  },
  {
   "cell_type": "code",
   "execution_count": 10,
   "id": "eb917f94",
   "metadata": {},
   "outputs": [
    {
     "name": "stdout",
     "output_type": "stream",
     "text": [
      "Juan\n",
      "Juan\n",
      "Juan\n",
      "Juan\n",
      "Juan\n"
     ]
    }
   ],
   "source": [
    "nombre_usuario = input('Digite el nombre de usuario: ')\n",
    "n = int(input('Digite el numero de veces que desea repetir el nombre: '))\n",
    "\n",
    "for i in range(n):\n",
    "    print(nombre_usuario)"
   ]
  },
  {
   "cell_type": "markdown",
   "id": "25bd98e6",
   "metadata": {},
   "source": [
    "## Ejercicio 6\n",
    "Escribir un programa que pregunte el nombre completo del usuario en la consola y después muestre por pantalla el nombre completo del usuario tres veces, una con todas las letras minúsculas, otra con todas las letras mayúsculas y otra solo con la primera letra del nombre y de los apellidos en mayúscula. El usuario puede introducir su nombre combinando mayúsculas y minúsculas como quiera."
   ]
  },
  {
   "cell_type": "code",
   "execution_count": 23,
   "id": "ce4bf174",
   "metadata": {},
   "outputs": [
    {
     "name": "stdout",
     "output_type": "stream",
     "text": [
      "Nombre en minusculas:  juan\n",
      "Nombre en mayusculas:  JUAN\n",
      "Nombre capitalizado:  Juan\n",
      "Tiene una longitud de:  4\n",
      "Nombre invertido:  nauJ\n"
     ]
    }
   ],
   "source": [
    "nombre = input('Digite su nombre: ')\n",
    "\n",
    "print('Nombre en minusculas: ', nombre.lower())\n",
    "print('Nombre en mayusculas: ', nombre.upper())\n",
    "print('Nombre capitalizado: ', nombre.capitalize())\n",
    "print('Tiene una longitud de: ', len(nombre))\n",
    "print('Nombre invertido: ', nombre[::-1])"
   ]
  },
  {
   "cell_type": "markdown",
   "id": "3aa09c06",
   "metadata": {},
   "source": [
    "## Ejercicio 7\n",
    "Los teléfonos de una empresa tienen el siguiente formato prefijo-número-extension donde el prefijo es el código del país +34, y la extensión tiene dos dígitos (por ejemplo +34-913724710-56). Escribir un programa que pregunte por un número de teléfono con este formato y muestre por pantalla el número de teléfono sin el prefijo y la extensión."
   ]
  },
  {
   "cell_type": "code",
   "execution_count": 20,
   "id": "09716945",
   "metadata": {},
   "outputs": [
    {
     "name": "stdout",
     "output_type": "stream",
     "text": [
      "Numero de telefono:  3174780083\n"
     ]
    }
   ],
   "source": [
    "telefono = input('Digite su numero de telefono: ')\n",
    "\n",
    "telefono_partes = telefono.split('-')\n",
    "print('Numero de telefono: ', telefono_partes[1])"
   ]
  },
  {
   "cell_type": "markdown",
   "id": "0ced5755",
   "metadata": {},
   "source": [
    "## Ejercicio 8\n",
    "Escribir un programa que pregunte el correo electrónico del usuario en la consola y muestre por pantalla otro correo electrónico con el mismo nombre (la parte delante de la arroba @) pero con dominio ceu.es."
   ]
  },
  {
   "cell_type": "code",
   "execution_count": 25,
   "id": "7d1813cb",
   "metadata": {},
   "outputs": [
    {
     "name": "stdout",
     "output_type": "stream",
     "text": [
      "Email:  juanghm@ceu.es\n"
     ]
    }
   ],
   "source": [
    "email = input('Introdusca su email: ')\n",
    "email_partes = email.split('@')\n",
    "\n",
    "print('Email: ', email_partes[0] + '@ceu.es')\n"
   ]
  },
  {
   "cell_type": "markdown",
   "id": "82308e3c",
   "metadata": {},
   "source": [
    "## Ejercicio 9\n",
    "Escribir un programa que pregunte el nombre el un producto, su precio y un número de unidades y muestre por pantalla una cadena con el nombre del producto seguido de su precio unitario con 6 dígitos enteros y 2 decimales, el número de unidades con tres dígitos y el coste total con 8 dígitos enteros y 2 decimales."
   ]
  },
  {
   "cell_type": "code",
   "execution_count": 27,
   "id": "e4bed960",
   "metadata": {},
   "outputs": [
    {
     "name": "stdout",
     "output_type": "stream",
     "text": [
      "Producto:  Limones\n",
      "Precio:  00200.00\n",
      "Unidades: 010\n",
      "Costo Total: 0002000.00\n"
     ]
    }
   ],
   "source": [
    "producto = input('Digite el nombre del producto: ')\n",
    "precio = float(input('Digite el precio del producto: '))\n",
    "unidades = int(input('Digite el numero de unidades: '))\n",
    "\n",
    "print('Producto: ', producto)\n",
    "print(f'Precio:  {(precio):08.2f}')\n",
    "print(f'Unidades: {unidades:03d}')\n",
    "print(f'Costo Total: {unidades*precio:010.2f}')\n"
   ]
  },
  {
   "cell_type": "markdown",
   "id": "4338869c",
   "metadata": {},
   "source": [
    "## Ejercicio 10\n",
    "Los alumnos de un curso se han dividido en dos grupos A y B de acuerdo al sexo y el nombre. El grupo A esta formado por las mujeres con un nombre anterior a la M y los hombres con un nombre posterior a la N y el grupo B por el resto. Escribir un programa que pregunte al usuario su nombre y sexo, y muestre por pantalla el grupo que le corresponde."
   ]
  },
  {
   "cell_type": "code",
   "execution_count": 29,
   "id": "3e7196df",
   "metadata": {},
   "outputs": [
    {
     "name": "stdout",
     "output_type": "stream",
     "text": [
      "Grupo A\n"
     ]
    }
   ],
   "source": [
    "# Grupo A: Mujeres con nombre anterior a M y Hombres con nombre superior a N.\n",
    "# Grupo B: Mujeres con Nombre superior a M y Hombres con nombre inferior a N.\n",
    "\n",
    "nombre = input('Digite su nombre: ')\n",
    "sexo = input('Digite su sexo (H/M): ')\n",
    "\n",
    "if (sexo == 'M' and nombre < 'M') or (sexo == 'H' and nombre > 'N'):\n",
    "    print('Grupo A')\n",
    "else:\n",
    "    print('Grupo B')"
   ]
  },
  {
   "cell_type": "markdown",
   "id": "1c87547c",
   "metadata": {},
   "source": [
    "## Ejercicio 11\n",
    "Escribir un programa que pida al usuario un número entero positivo y muestre por pantalla todos los números impares desde 1 hasta ese número separados por comas."
   ]
  },
  {
   "cell_type": "code",
   "execution_count": 30,
   "id": "89b9ffd5",
   "metadata": {},
   "outputs": [
    {
     "name": "stdout",
     "output_type": "stream",
     "text": [
      "Lista de numeros inpares:  [1, 3, 5, 7, 9]\n"
     ]
    }
   ],
   "source": [
    "numero = int(input('Digite un numero: '))\n",
    "\n",
    "lista = []\n",
    "for i in range(numero):\n",
    "    if i % 2 != 0:\n",
    "        lista.append(i)\n",
    "\n",
    "print('Lista de numeros inpares: ', lista)"
   ]
  },
  {
   "cell_type": "markdown",
   "id": "651ff631",
   "metadata": {},
   "source": [
    "## Ejercicio 12\n",
    "Escribir un programa que pida al usuario un número entero y muestre por pantalla un triángulo rectángulo como el de más abajo, de altura el número introducido.\n",
    "\n",
    "```\n",
    "*\n",
    "**\n",
    "***\n",
    "****\n",
    "*****\n",
    "```"
   ]
  },
  {
   "cell_type": "code",
   "execution_count": 34,
   "id": "98b5ad0a",
   "metadata": {},
   "outputs": [
    {
     "name": "stdout",
     "output_type": "stream",
     "text": [
      "*\n",
      "**\n",
      "***\n",
      "****\n",
      "*****\n",
      "******\n",
      "*******\n",
      "********\n",
      "*********\n",
      "**********\n"
     ]
    }
   ],
   "source": [
    "numero = int(input('Digite un numero: '))\n",
    "\n",
    "lista_imprimir = ''\n",
    "for i in range(numero):\n",
    "    for j in range(i+1):\n",
    "        lista_imprimir += '*'\n",
    "    print(lista_imprimir)\n",
    "    lista_imprimir = ''"
   ]
  },
  {
   "cell_type": "markdown",
   "id": "c4c1b8e4",
   "metadata": {},
   "source": [
    "## Ejercicio 13\n",
    "Escribir un programa que pida al usuario un número entero y muestre por pantalla un triángulo rectángulo como el de más abajo.\n",
    "\n",
    "```\n",
    "1\n",
    "3 1\n",
    "5 3 1\n",
    "7 5 3 1\n",
    "9 7 5 3 1\n",
    "```"
   ]
  },
  {
   "cell_type": "code",
   "execution_count": 51,
   "id": "b3bf400b",
   "metadata": {},
   "outputs": [
    {
     "name": "stdout",
     "output_type": "stream",
     "text": [
      "1 \n",
      "3 1 \n",
      "5 3 1 \n",
      "7 5 3 1 \n",
      "9 7 5 3 1 \n",
      "11 9 7 5 3 1 \n",
      "13 11 9 7 5 3 1 \n",
      "15 13 11 9 7 5 3 1 \n",
      "17 15 13 11 9 7 5 3 1 \n"
     ]
    }
   ],
   "source": [
    "numero = int(input('Digite un numero: '))\n",
    "\n",
    "lista_imprimir = ''\n",
    "for i in range(1, numero):\n",
    "    for j in range(i*2, 0, -1):\n",
    "        if j % 2 != 0:\n",
    "            lista_imprimir += str(j) + ' '\n",
    "    print(lista_imprimir)\n",
    "    lista_imprimir = ''"
   ]
  },
  {
   "cell_type": "markdown",
   "id": "86e38d24",
   "metadata": {},
   "source": [
    "## Ejercicio 14\n",
    "Escribir un programa que pida al usuario un número entero y muestre por pantalla si es un número primo o no."
   ]
  },
  {
   "cell_type": "code",
   "execution_count": 59,
   "id": "34220dad",
   "metadata": {},
   "outputs": [
    {
     "name": "stdout",
     "output_type": "stream",
     "text": [
      "23 es un numero primo\n"
     ]
    }
   ],
   "source": [
    "numero = int(input('Digite un numero: '))\n",
    "\n",
    "resultado = f'{numero} es un numero primo'\n",
    "\n",
    "for i in range(1, numero+1):\n",
    "    if i != 1 and numero != i and numero % i == 0:\n",
    "        resultado = f'{numero} No es primo'\n",
    "\n",
    "print(resultado)"
   ]
  },
  {
   "cell_type": "markdown",
   "id": "b9249b5d",
   "metadata": {},
   "source": [
    "## Ejercicio 15\n",
    "Escribir un programa que pida al usuario una palabra y luego muestre por pantalla una a una las letras de la palabra introducida empezando por la última."
   ]
  },
  {
   "cell_type": "code",
   "execution_count": 60,
   "id": "7747db7d",
   "metadata": {},
   "outputs": [
    {
     "name": "stdout",
     "output_type": "stream",
     "text": [
      "n a u j "
     ]
    }
   ],
   "source": [
    "palabra = input('Digite una palabra: ')\n",
    "\n",
    "for letra in palabra[::-1]:\n",
    "    print(letra, end=' ')\n",
    "    "
   ]
  },
  {
   "cell_type": "markdown",
   "id": "8f654182",
   "metadata": {},
   "source": [
    "## Ejercicio 16\n",
    "Escribir un programa que muestre el eco de todo lo que el usuario introduzca hasta que el usuario escriba “salir” que terminará."
   ]
  },
  {
   "cell_type": "code",
   "execution_count": 62,
   "id": "70ce2f13",
   "metadata": {},
   "outputs": [
    {
     "name": "stdout",
     "output_type": "stream",
     "text": [
      "juan\n",
      "salida\n",
      "otravez\n",
      "como asi\n",
      "haaa sii esta bien\n"
     ]
    }
   ],
   "source": [
    "palabra = ''\n",
    "\n",
    "while palabra != 'salir':\n",
    "    palabra = input('Digita una palabra').lower()\n",
    "    \n",
    "    if palabra != 'salir':\n",
    "        print(palabra)\n",
    "        palabra = ''"
   ]
  },
  {
   "cell_type": "markdown",
   "id": "c645b2a3",
   "metadata": {},
   "source": [
    "## Ejercicio 17\n",
    "Escribir un programa que pregunte al usuario los números ganadores de la lotería primitiva, los almacene en una lista y los muestre por pantalla ordenados de menor a mayor."
   ]
  },
  {
   "cell_type": "code",
   "execution_count": 67,
   "id": "7f620cd7",
   "metadata": {},
   "outputs": [
    {
     "name": "stdout",
     "output_type": "stream",
     "text": [
      "[1, 2, 3, 4, 5, 8]\n"
     ]
    }
   ],
   "source": [
    "numeros_cadena = input('Digite una lista de numeros separados por comas: ')\n",
    "numeros = [int(num) for num in numeros_cadena.split(',')]\n",
    "numeros.sort()\n",
    "\n",
    "print(numeros)\n"
   ]
  },
  {
   "cell_type": "markdown",
   "id": "11e03a4e",
   "metadata": {},
   "source": [
    "## Ejercicio 18\n",
    "Escribir un programa que almacene las asignaturas de un curso (por ejemplo Matemáticas, Física, Química, Historia y Lengua) en una lista, pregunte al usuario la nota que ha sacado en cada asignatura y elimine de la lista las asignaturas aprobadas. Al final el programa debe mostrar por pantalla las asignaturas que el usuario tiene que repetir."
   ]
  },
  {
   "cell_type": "code",
   "execution_count": 71,
   "id": "4e4bb11c",
   "metadata": {},
   "outputs": [
    {
     "name": "stdout",
     "output_type": "stream",
     "text": [
      "Asignaturas que debe repetir:  ['Quimica', 'Literatura']\n"
     ]
    }
   ],
   "source": [
    "asignaturas = ['Matematicas', 'Fisica', 'Quimica', 'Historia', 'Literatura']\n",
    "repetir = []\n",
    "\n",
    "for asignatura in asignaturas:\n",
    "    nota = float(input(f'Cual fue la nota de: {asignatura}'))\n",
    "    if nota < 3:\n",
    "        repetir.append(asignatura)\n",
    "\n",
    "print('Asignaturas que debe repetir: ', repetir)"
   ]
  },
  {
   "cell_type": "markdown",
   "id": "24aee87b",
   "metadata": {},
   "source": [
    "## Ejercicio 19\n",
    "Escribir un programa que almacene en una lista los siguientes precios, 50, 75, 46, 22, 80, 65, 8, y muestre por pantalla el menor y el mayor de los precios."
   ]
  },
  {
   "cell_type": "code",
   "execution_count": 72,
   "id": "8209a813",
   "metadata": {},
   "outputs": [
    {
     "name": "stdout",
     "output_type": "stream",
     "text": [
      "El menor de los numeros es:  8\n",
      "El mayor de los numeros es:  80\n"
     ]
    }
   ],
   "source": [
    "numeros = [50, 75, 46, 22, 80, 65, 8]\n",
    "numeros.sort()\n",
    "\n",
    "print('El menor de los numeros es: ', numeros[0])\n",
    "print('El mayor de los numeros es: ', numeros[-1])\n"
   ]
  },
  {
   "cell_type": "markdown",
   "id": "a30dc541",
   "metadata": {},
   "source": [
    "## Ejercicio 20\n",
    "Escribir un programa que guarde en una variable el diccionario {'Euro':'€', 'Dollar':'$', 'Yen':'¥'}, pregunte al usuario por una divisa y muestre su símbolo o un mensaje de aviso si la divisa no está en el diccionario."
   ]
  },
  {
   "cell_type": "code",
   "execution_count": 74,
   "id": "c2ddb4eb",
   "metadata": {},
   "outputs": [
    {
     "name": "stdout",
     "output_type": "stream",
     "text": [
      "El simbolo de la moneda Dollar es: $\n"
     ]
    }
   ],
   "source": [
    "divisas = {'Euro':'€', 'Dollar':'$', 'Yen':'¥'}\n",
    "\n",
    "moneda = input('Digite la moneda: ')\n",
    "\n",
    "if moneda in divisas.keys():\n",
    "    print(f'El simbolo de la moneda {moneda} es: {divisas[moneda]}')\n",
    "else:\n",
    "    print('La moneda no existe')"
   ]
  },
  {
   "cell_type": "markdown",
   "id": "4af768bf",
   "metadata": {},
   "source": [
    "## Ejercicio 21\n",
    "Escribir un programa que pregunte una fecha en formato dd/mm/aaaa y muestre por pantalla la misma fecha en formato `dd` de `mes` de `aaaa` donde `mes` es el nombre del mes."
   ]
  },
  {
   "cell_type": "code",
   "execution_count": 75,
   "id": "80db0383",
   "metadata": {},
   "outputs": [
    {
     "name": "stdout",
     "output_type": "stream",
     "text": [
      "La fecha es:  03 de November de 1981\n"
     ]
    }
   ],
   "source": [
    "import datetime\n",
    "\n",
    "fecha_dma = input('Digite la fecha en formato dd/mm/aaaa: ')\n",
    "\n",
    "fecha = datetime.datetime.strptime(fecha_dma, '%d/%m/%Y')\n",
    "print('La fecha es: ', fecha.strftime('%d de %B de %Y'))"
   ]
  },
  {
   "cell_type": "markdown",
   "id": "cf9c26dd",
   "metadata": {},
   "source": [
    "## Ejercicio 22\n",
    "Escribir un programa que cree un diccionario vacío y lo vaya llenado con información sobre una persona (por ejemplo nombre, edad, sexo, teléfono, correo electrónico, etc.) que se le pida al usuario. Cada vez que se añada un nuevo dato debe imprimirse el contenido del diccionario."
   ]
  },
  {
   "cell_type": "code",
   "execution_count": 76,
   "id": "fb8d4431",
   "metadata": {},
   "outputs": [
    {
     "name": "stdout",
     "output_type": "stream",
     "text": [
      "{'nombre': 'Juan'}\n",
      "{'nombre': 'Juan', 'edad': 43}\n",
      "{'nombre': 'Juan', 'edad': 43, 'sexo': 'M'}\n",
      "{'nombre': 'Juan', 'edad': 43, 'sexo': 'M', 'telefono': '317478'}\n"
     ]
    }
   ],
   "source": [
    "resultado = {}\n",
    "\n",
    "nombre = input('Digite su nombre: ')\n",
    "resultado['nombre'] = nombre\n",
    "print(resultado)\n",
    "\n",
    "edad = int(input('Digite su edad: '))\n",
    "resultado['edad'] = edad\n",
    "print(resultado)\n",
    "\n",
    "sexo = input('Digite su sexo: ')\n",
    "resultado['sexo'] = sexo\n",
    "print(resultado)\n",
    "\n",
    "telefono = input('Digite su telefono: ')\n",
    "resultado['telefono'] = telefono\n",
    "print(resultado)"
   ]
  },
  {
   "cell_type": "markdown",
   "id": "23797bf1",
   "metadata": {},
   "source": [
    "## Ejercicio 23\n",
    "Escribir un programa que cree un diccionario de traducción español-inglés. El usuario introducirá las palabras en español e inglés separadas por dos puntos, y cada par `palabra`:`traducción` separados por comas. El programa debe crear un diccionario con las palabras y sus traducciones. Después pedirá una frase en español y utilizará el diccionario para traducirla palabra a palabra. Si una palabra no está en el diccionario debe dejarla sin traducir."
   ]
  },
  {
   "cell_type": "code",
   "execution_count": 80,
   "id": "2c89ae70",
   "metadata": {},
   "outputs": [
    {
     "name": "stdout",
     "output_type": "stream",
     "text": [
      "the house is my "
     ]
    }
   ],
   "source": [
    "traductor = {}\n",
    "\n",
    "while True:\n",
    "    dict = input('Digite la palabra en español e ingles: ')\n",
    "    palabra = dict.split(sep=',')\n",
    "    traductor[palabra[0]] = palabra[1]\n",
    "    seguir_diccionario = input('Desea agregar otra palabra? (s/n): ').lower()\n",
    "    if seguir_diccionario == 'n':\n",
    "        break\n",
    "\n",
    "frase_traducir = input('Digite la frase a traducir: ')\n",
    "frase_palabras = frase_traducir.split(' ')\n",
    "\n",
    "for palabra in frase_palabras:\n",
    "    if palabra in traductor.keys():\n",
    "        print(traductor[palabra], end=' ')\n",
    "    else:\n",
    "        print(palabra, end=' ')"
   ]
  },
  {
   "cell_type": "code",
   "execution_count": null,
   "id": "80342afd",
   "metadata": {},
   "outputs": [],
   "source": []
  }
 ],
 "metadata": {
  "kernelspec": {
   "display_name": ".venv",
   "language": "python",
   "name": "python3"
  },
  "language_info": {
   "codemirror_mode": {
    "name": "ipython",
    "version": 3
   },
   "file_extension": ".py",
   "mimetype": "text/x-python",
   "name": "python",
   "nbconvert_exporter": "python",
   "pygments_lexer": "ipython3",
   "version": "3.13.3"
  }
 },
 "nbformat": 4,
 "nbformat_minor": 5
}
